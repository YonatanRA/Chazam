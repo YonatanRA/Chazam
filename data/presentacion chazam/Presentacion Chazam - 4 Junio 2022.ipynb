{
 "cells": [
  {
   "cell_type": "markdown",
   "id": "c3d4fb1a",
   "metadata": {},
   "source": [
    "# Chazam\n",
    "\n",
    "<img src='images/chazam.png' width='500'/>"
   ]
  },
  {
   "cell_type": "code",
   "execution_count": null,
   "id": "7a14b09d",
   "metadata": {},
   "outputs": [],
   "source": [
    "# librerias\n",
    "\n",
    "from pydub import AudioSegment  # cargar audio\n",
    "\n",
    "import pylab as plt     # para pintar\n",
    "\n",
    "import matplotlib.mlab as mlab   # para sacar espectrograma\n",
    "\n",
    "import numpy as np   # un poco de algebra lineal😁\n",
    "\n",
    "import warnings    # para no imprimir warnings\n",
    "warnings.filterwarnings('ignore')"
   ]
  },
  {
   "cell_type": "markdown",
   "id": "7d2068b9",
   "metadata": {},
   "source": [
    "### 01 - Audio"
   ]
  },
  {
   "cell_type": "code",
   "execution_count": null,
   "id": "41f66553",
   "metadata": {},
   "outputs": [],
   "source": [
    "# carga de audio\n",
    "\n",
    "nombre = 'Masayoshi Takanaka - Manifestation'\n",
    "\n",
    "cancion = AudioSegment.from_file('audio/'+ nombre + '.wav')"
   ]
  },
  {
   "cell_type": "code",
   "execution_count": null,
   "id": "162441a1",
   "metadata": {},
   "outputs": [],
   "source": [
    "cancion"
   ]
  },
  {
   "cell_type": "markdown",
   "id": "3b6ef20c",
   "metadata": {},
   "source": [
    "### 02 - Señal (waveform)"
   ]
  },
  {
   "cell_type": "code",
   "execution_count": null,
   "id": "c472df6d",
   "metadata": {},
   "outputs": [],
   "source": [
    "# gráfico de la señal de audio (amplitud vs tiempo)\n",
    "\n",
    "plt.figure(figsize=(15, 8))\n",
    "\n",
    "plt.plot(cancion.get_array_of_samples())\n",
    "\n",
    "plt.title(nombre)\n",
    "\n",
    "plt.xlabel('Tiempo')\n",
    "\n",
    "plt.ylabel('Amplitud');"
   ]
  },
  {
   "cell_type": "markdown",
   "id": "b7214ae6",
   "metadata": {},
   "source": [
    "### 03 - Espectrograma"
   ]
  },
  {
   "cell_type": "code",
   "execution_count": null,
   "id": "809f196f",
   "metadata": {},
   "outputs": [],
   "source": [
    "# extraccion de un solo canal, 2 canales (cancion.channels)\n",
    "\n",
    "canal = np.frombuffer(cancion.raw_data, np.int16)[0::2]"
   ]
  },
  {
   "cell_type": "code",
   "execution_count": null,
   "id": "4d28876c",
   "metadata": {},
   "outputs": [],
   "source": [
    "canal.shape   # dimension"
   ]
  },
  {
   "cell_type": "code",
   "execution_count": null,
   "id": "ab81530e",
   "metadata": {},
   "outputs": [],
   "source": [
    "canal[int(8e6) : int(8e6) + 10]   # muestra"
   ]
  },
  {
   "cell_type": "code",
   "execution_count": null,
   "id": "ed29bfaa",
   "metadata": {},
   "outputs": [],
   "source": [
    "# transformada de Fourier, extraccion componentes de frecuencia\n",
    "\n",
    "espectro = mlab.specgram(\n",
    "                        canal,\n",
    "                        NFFT=5000,\n",
    "                        Fs=48000,\n",
    "                        window=mlab.window_hanning,\n",
    "                        noverlap=int(5000 * 0.7)\n",
    "                        )[0]\n",
    "\n",
    "\n",
    "espectro.shape"
   ]
  },
  {
   "cell_type": "code",
   "execution_count": null,
   "id": "215e4ed2",
   "metadata": {},
   "outputs": [],
   "source": [
    "espectro[0][50:60]"
   ]
  },
  {
   "cell_type": "code",
   "execution_count": null,
   "id": "913239c1",
   "metadata": {},
   "outputs": [],
   "source": [
    "# transformacion logaritmica, mlab devuelve un array lineal, se excluyes los 0 para evitar warnings (me salen igual🤨)\n",
    "# para graficar \n",
    "\n",
    "espectro = 10 * np.log10(espectro, out=np.zeros_like(espectro), where=(espectro != 0))\n",
    "\n",
    "espectro[0][50:60]"
   ]
  },
  {
   "cell_type": "code",
   "execution_count": null,
   "id": "eb5a82b6",
   "metadata": {},
   "outputs": [],
   "source": [
    "# gráfico del espectrograma (frecuencia vs tiempo: ejes. amplitud: color)\n",
    "\n",
    "fig, ax = plt.subplots(figsize=(20, 8))\n",
    "\n",
    "ax.imshow(espectro, cmap='jet')\n",
    "\n",
    "ax.set_xlabel('Tiempo')\n",
    "ax.set_ylabel('Frecuencia')\n",
    "\n",
    "ax.set_title(f'Espectrograma - {nombre}')\n",
    "\n",
    "plt.gca().invert_yaxis();"
   ]
  },
  {
   "cell_type": "markdown",
   "id": "f0d8bf0a",
   "metadata": {},
   "source": [
    "![eq](images/eq.gif)"
   ]
  },
  {
   "cell_type": "markdown",
   "id": "7a2008b6",
   "metadata": {},
   "source": [
    "### 04 - Extraer picos en el espectrograma"
   ]
  },
  {
   "cell_type": "code",
   "execution_count": null,
   "id": "f94680fa",
   "metadata": {},
   "outputs": [],
   "source": [
    "from chazam.tools import get_spectrum_peaks"
   ]
  },
  {
   "cell_type": "code",
   "execution_count": null,
   "id": "67d85644",
   "metadata": {},
   "outputs": [],
   "source": [
    "picos = get_spectrum_peaks(espectro)\n",
    "\n",
    "len(picos)"
   ]
  },
  {
   "cell_type": "code",
   "execution_count": null,
   "id": "30a0c5e4",
   "metadata": {},
   "outputs": [],
   "source": [
    "picos[0]"
   ]
  },
  {
   "cell_type": "code",
   "execution_count": null,
   "id": "293424d0",
   "metadata": {
    "scrolled": false
   },
   "outputs": [],
   "source": [
    "# espectrograma con picos\n",
    "\n",
    "fig, ax = plt.subplots(figsize=(20, 8))\n",
    "\n",
    "ax.imshow(espectro, cmap='jet')\n",
    "\n",
    "ax.scatter([e[1] for e in picos], [e[0] for e in picos], s=10)\n",
    "\n",
    "ax.set_xlabel('Tiempo')\n",
    "ax.set_ylabel('Frecuencia')\n",
    "\n",
    "ax.set_title(f'Espectrograma - {nombre}')\n",
    "\n",
    "plt.gca().invert_yaxis();"
   ]
  },
  {
   "cell_type": "code",
   "execution_count": null,
   "id": "eadfa8c1",
   "metadata": {},
   "outputs": [],
   "source": [
    "# picos\n",
    "\n",
    "fig, ax = plt.subplots(figsize=(20, 8))\n",
    "\n",
    "ax.scatter([e[1] for e in picos], [e[0] for e in picos], s=15)\n",
    "\n",
    "ax.set_xlabel('Tiempo')\n",
    "ax.set_ylabel('Frecuencia')\n",
    "\n",
    "ax.set_title(f'Picos - {nombre}');"
   ]
  },
  {
   "cell_type": "markdown",
   "id": "32dbe87c",
   "metadata": {},
   "source": [
    "### 05 - Hashing fingerprints\n",
    "\n",
    "<img src='images/fingerprint.jpg' width='500'/>\n",
    "\n",
    "[funcion hash](https://es.wikipedia.org/wiki/Funci%C3%B3n_hash)\n",
    "\n",
    "\n",
    "$hashing(\\text{picos}, \\text{diferencia tiempo entre picos}) = \\text{valor hash del fingerprint, tiempo inicial}$"
   ]
  },
  {
   "cell_type": "code",
   "execution_count": null,
   "id": "bd2415bb",
   "metadata": {},
   "outputs": [],
   "source": [
    "from chazam.tools import hashing"
   ]
  },
  {
   "cell_type": "code",
   "execution_count": null,
   "id": "2534b314",
   "metadata": {},
   "outputs": [],
   "source": [
    "hash=hashing(picos, 15)\n",
    "\n",
    "hash[-10:]"
   ]
  },
  {
   "cell_type": "code",
   "execution_count": null,
   "id": "4f053e98",
   "metadata": {},
   "outputs": [],
   "source": [
    "len(hash)"
   ]
  },
  {
   "cell_type": "markdown",
   "id": "a91330f0",
   "metadata": {},
   "source": [
    "### 06 - Base de datos (SQL)"
   ]
  },
  {
   "cell_type": "markdown",
   "id": "a695e9d6",
   "metadata": {},
   "source": [
    "**Creación tabla de canciones**\n",
    "\n",
    "```sql\n",
    "create table if not exists songs (\n",
    "    \n",
    "                                song_id mediumint unsigned not null auto_increment,\n",
    "                                song_name varchar(250) not null,\n",
    "                                fingerprinted tinyint default 0,\n",
    "                                file_sha1 binary(20) not null,\n",
    "    \n",
    "                    primary key (song_id),\n",
    "                    unique key song_id (song_id)\n",
    "                );\n",
    "```"
   ]
  },
  {
   "cell_type": "markdown",
   "id": "1e01339e",
   "metadata": {},
   "source": [
    "    "
   ]
  },
  {
   "cell_type": "markdown",
   "id": "8d449e69",
   "metadata": {},
   "source": [
    "**Creacion tabla de fingerprints**\n",
    "\n",
    "```sql\n",
    "create table if not exists fingerprints (\n",
    "                                         \n",
    "                                         hash binary(10) not null,\n",
    "                                         song_id mediumint unsigned not null,\n",
    "                                         offset int unsigned not null,\n",
    "                     index (hash),\n",
    "                     unique key `unique_constraint` (song_id, offset, hash),\n",
    "                     foreign key (song_id) references fingerprints(song_id) on delete cascade\n",
    "                );\n",
    "```"
   ]
  },
  {
   "cell_type": "markdown",
   "id": "9d695b0b",
   "metadata": {},
   "source": [
    "       "
   ]
  },
  {
   "cell_type": "markdown",
   "id": "b88f680c",
   "metadata": {},
   "source": [
    "**Insercion de datos en tabla canciones**\n",
    "\n",
    "```sql\n",
    "insert into songs (song_name, file_sha1) values (song_name_data, UNHEX(file_sha1_data));\n",
    "```"
   ]
  },
  {
   "cell_type": "markdown",
   "id": "cf8ab7b5",
   "metadata": {},
   "source": [
    "           "
   ]
  },
  {
   "cell_type": "markdown",
   "id": "b89df69c",
   "metadata": {},
   "source": [
    "**Insercion de datos en tabla fingerprints**\n",
    "\n",
    "```sql\n",
    "insert ignore into fingerprints (hash, song_id, offset) values (UNHEX(hash), song_id, offset);\n",
    "```"
   ]
  },
  {
   "cell_type": "markdown",
   "id": "7c2dbdb6",
   "metadata": {},
   "source": [
    "        "
   ]
  },
  {
   "cell_type": "markdown",
   "id": "77c838bf",
   "metadata": {},
   "source": [
    "### 07 - Detección"
   ]
  },
  {
   "cell_type": "code",
   "execution_count": null,
   "id": "def5cf46",
   "metadata": {},
   "outputs": [],
   "source": [
    "from chazam import Chazam\n",
    "\n",
    "from chazam.tools import audio_cutting"
   ]
  },
  {
   "cell_type": "code",
   "execution_count": null,
   "id": "1afb69eb",
   "metadata": {},
   "outputs": [],
   "source": [
    "# recorte de audio a detectar desde 1:50 hasta 1:53\n",
    "\n",
    "audio_cutting(nombre, 1, 50, 1, 53)"
   ]
  },
  {
   "cell_type": "code",
   "execution_count": null,
   "id": "61a4cc58",
   "metadata": {},
   "outputs": [],
   "source": [
    "AudioSegment.from_file('sample/'+ nombre + '.wav')"
   ]
  },
  {
   "cell_type": "code",
   "execution_count": null,
   "id": "72590637",
   "metadata": {},
   "outputs": [],
   "source": [
    "ih_chazam=Chazam()"
   ]
  },
  {
   "cell_type": "code",
   "execution_count": null,
   "id": "120b2a0b",
   "metadata": {},
   "outputs": [],
   "source": [
    "cancion=ih_chazam.recognize('sample/'+ nombre + '.wav')\n",
    "\n",
    "cancion"
   ]
  },
  {
   "cell_type": "code",
   "execution_count": null,
   "id": "2003610e",
   "metadata": {},
   "outputs": [],
   "source": [
    "cancion['results'][0]['song_name'].decode('utf-8')"
   ]
  },
  {
   "cell_type": "markdown",
   "id": "d43e85f2",
   "metadata": {},
   "source": [
    "### 08 - API (deploy)"
   ]
  },
  {
   "cell_type": "markdown",
   "id": "a1546d32",
   "metadata": {},
   "source": [
    "```python\n",
    "\n",
    "from flask import Flask, request\n",
    "from flask_cors import CORS        # cross-origin resource sharing\n",
    "\n",
    "from chazam import Chazam\n",
    "\n",
    "from config import WAV_PATH, COVERS, DATA_DEFAULT\n",
    "\n",
    "\n",
    "app=Flask(__name__)\n",
    "\n",
    "cors=CORS(app, resources={r'*': {'origins': '*'}})\n",
    "\n",
    "ih_chazam=Chazam()\n",
    "\n",
    "\n",
    "@app.route('/', methods=['POST', 'GET'])\n",
    "def main():\n",
    "\n",
    "    audio=request.files['blob']\n",
    "    audio.save(WAV_PATH)\n",
    "\n",
    "    song=ih_chazam.recognize(WAV_PATH)\n",
    "\n",
    "    if song['results'][0]['input_confidence']<0.2:\n",
    "        return f'{DATA_DEFAULT}', 200\n",
    "\n",
    "    else:\n",
    "\n",
    "        song_name=song['results'][0]['song_name'].decode('utf-8').split('-')\n",
    "\n",
    "        data={'artist': song_name[0].strip(),\n",
    "              'song': song_name[1].strip(),\n",
    "              'cover': COVERS[song['results'][0]['song_name'].decode('utf-8')],\n",
    "              'match_time': song['total_time']\n",
    "              }\n",
    "\n",
    "        return f'{data}', 200\n",
    "\n",
    "   \n",
    "if __name__== '__main__':\n",
    "    app.run(debug=True)\n",
    "\n",
    "\n",
    "\n",
    "\n",
    "```"
   ]
  }
 ],
 "metadata": {
  "kernelspec": {
   "display_name": "tensor",
   "language": "python",
   "name": "tensor"
  },
  "language_info": {
   "codemirror_mode": {
    "name": "ipython",
    "version": 3
   },
   "file_extension": ".py",
   "mimetype": "text/x-python",
   "name": "python",
   "nbconvert_exporter": "python",
   "pygments_lexer": "ipython3",
   "version": "3.8.13"
  }
 },
 "nbformat": 4,
 "nbformat_minor": 5
}
