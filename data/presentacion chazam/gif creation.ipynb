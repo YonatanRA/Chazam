{
 "cells": [
  {
   "cell_type": "code",
   "execution_count": 7,
   "id": "62fd19e9",
   "metadata": {},
   "outputs": [],
   "source": [
    "import glob\n",
    "from PIL import Image\n",
    "\n",
    "# filepaths\n",
    "fp_in = \"images/*.png\"\n",
    "fp_out = \"images/image.gif\"\n",
    "\n",
    "# https://pillow.readthedocs.io/en/stable/handbook/image-file-formats.html#gif\n",
    "imgs = (Image.open(f) for f in sorted(glob.glob(fp_in)))\n",
    "img = next(imgs)  # extract first image from iterator\n",
    "\n",
    "img.save(fp=fp_out, format='GIF', append_images=imgs,\n",
    "         save_all=True, duration=800, loop=1)\n"
   ]
  },
  {
   "cell_type": "code",
   "execution_count": 10,
   "id": "74cd4fa3",
   "metadata": {},
   "outputs": [
    {
     "name": "stdout",
     "output_type": "stream",
     "text": [
      "Help on method save in module PIL.Image:\n",
      "\n",
      "save(fp, format=None, **params) method of PIL.PngImagePlugin.PngImageFile instance\n",
      "    Saves this image under the given filename.  If no format is\n",
      "    specified, the format to use is determined from the filename\n",
      "    extension, if possible.\n",
      "    \n",
      "    Keyword options can be used to provide additional instructions\n",
      "    to the writer. If a writer doesn't recognise an option, it is\n",
      "    silently ignored. The available options are described in the\n",
      "    :doc:`image format documentation\n",
      "    <../handbook/image-file-formats>` for each writer.\n",
      "    \n",
      "    You can use a file object instead of a filename. In this case,\n",
      "    you must always specify the format. The file object must\n",
      "    implement the ``seek``, ``tell``, and ``write``\n",
      "    methods, and be opened in binary mode.\n",
      "    \n",
      "    :param fp: A filename (string), pathlib.Path object or file object.\n",
      "    :param format: Optional format override.  If omitted, the\n",
      "       format to use is determined from the filename extension.\n",
      "       If a file object was used instead of a filename, this\n",
      "       parameter should always be used.\n",
      "    :param params: Extra parameters to the image writer.\n",
      "    :returns: None\n",
      "    :exception ValueError: If the output format could not be determined\n",
      "       from the file name.  Use the format option to solve this.\n",
      "    :exception OSError: If the file could not be written.  The file\n",
      "       may have been created, and may contain partial data.\n",
      "\n"
     ]
    }
   ],
   "source": [
    "help(img.save)"
   ]
  },
  {
   "cell_type": "code",
   "execution_count": null,
   "id": "b03a7a1c",
   "metadata": {},
   "outputs": [],
   "source": []
  },
  {
   "cell_type": "code",
   "execution_count": null,
   "id": "c73c042e",
   "metadata": {},
   "outputs": [],
   "source": []
  }
 ],
 "metadata": {
  "kernelspec": {
   "display_name": "tensor",
   "language": "python",
   "name": "tensor"
  },
  "language_info": {
   "codemirror_mode": {
    "name": "ipython",
    "version": 3
   },
   "file_extension": ".py",
   "mimetype": "text/x-python",
   "name": "python",
   "nbconvert_exporter": "python",
   "pygments_lexer": "ipython3",
   "version": "3.8.13"
  }
 },
 "nbformat": 4,
 "nbformat_minor": 5
}
