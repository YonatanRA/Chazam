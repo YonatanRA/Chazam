{
 "cells": [
  {
   "cell_type": "markdown",
   "id": "c3d4fb1a",
   "metadata": {},
   "source": [
    "# Chazam\n",
    "\n",
    "<img src='images/chazam.png' width='500'/>"
   ]
  },
  {
   "cell_type": "code",
   "execution_count": null,
   "id": "7a14b09d",
   "metadata": {},
   "outputs": [],
   "source": []
  },
  {
   "cell_type": "markdown",
   "id": "7d2068b9",
   "metadata": {},
   "source": [
    "### 01 - Audio"
   ]
  },
  {
   "cell_type": "code",
   "execution_count": null,
   "id": "41f66553",
   "metadata": {},
   "outputs": [],
   "source": []
  },
  {
   "cell_type": "code",
   "execution_count": null,
   "id": "162441a1",
   "metadata": {},
   "outputs": [],
   "source": []
  },
  {
   "cell_type": "markdown",
   "id": "3b6ef20c",
   "metadata": {},
   "source": [
    "### 02 - Señal (waveform)"
   ]
  },
  {
   "cell_type": "code",
   "execution_count": null,
   "id": "c472df6d",
   "metadata": {},
   "outputs": [],
   "source": []
  },
  {
   "cell_type": "markdown",
   "id": "b7214ae6",
   "metadata": {},
   "source": [
    "### 03 - Espectrograma"
   ]
  },
  {
   "cell_type": "code",
   "execution_count": null,
   "id": "47d00600",
   "metadata": {},
   "outputs": [],
   "source": []
  },
  {
   "cell_type": "code",
   "execution_count": null,
   "id": "809f196f",
   "metadata": {},
   "outputs": [],
   "source": []
  },
  {
   "cell_type": "code",
   "execution_count": null,
   "id": "4d28876c",
   "metadata": {},
   "outputs": [],
   "source": []
  },
  {
   "cell_type": "code",
   "execution_count": null,
   "id": "ab81530e",
   "metadata": {},
   "outputs": [],
   "source": []
  },
  {
   "cell_type": "code",
   "execution_count": null,
   "id": "ed29bfaa",
   "metadata": {},
   "outputs": [],
   "source": []
  },
  {
   "cell_type": "code",
   "execution_count": null,
   "id": "215e4ed2",
   "metadata": {},
   "outputs": [],
   "source": []
  },
  {
   "cell_type": "code",
   "execution_count": null,
   "id": "913239c1",
   "metadata": {},
   "outputs": [],
   "source": []
  },
  {
   "cell_type": "code",
   "execution_count": null,
   "id": "eb5a82b6",
   "metadata": {},
   "outputs": [],
   "source": []
  },
  {
   "cell_type": "markdown",
   "id": "f0d8bf0a",
   "metadata": {},
   "source": [
    "![eq](images/eq.gif)"
   ]
  },
  {
   "cell_type": "markdown",
   "id": "7a2008b6",
   "metadata": {},
   "source": [
    "### 04 - Extraer picos en el espectrograma"
   ]
  },
  {
   "cell_type": "code",
   "execution_count": null,
   "id": "f94680fa",
   "metadata": {},
   "outputs": [],
   "source": []
  },
  {
   "cell_type": "code",
   "execution_count": null,
   "id": "67d85644",
   "metadata": {},
   "outputs": [],
   "source": []
  },
  {
   "cell_type": "code",
   "execution_count": null,
   "id": "30a0c5e4",
   "metadata": {},
   "outputs": [],
   "source": []
  },
  {
   "cell_type": "code",
   "execution_count": null,
   "id": "293424d0",
   "metadata": {
    "scrolled": false
   },
   "outputs": [],
   "source": []
  },
  {
   "cell_type": "code",
   "execution_count": null,
   "id": "eadfa8c1",
   "metadata": {},
   "outputs": [],
   "source": []
  },
  {
   "cell_type": "markdown",
   "id": "32dbe87c",
   "metadata": {},
   "source": [
    "### 05 - Hashing fingerprints\n",
    "\n",
    "<img src='images/fingerprint.jpg' width='500'/>\n",
    "\n",
    "[funcion hash](https://es.wikipedia.org/wiki/Funci%C3%B3n_hash)\n",
    "\n",
    "\n",
    "$hashing(\\text{picos}, \\text{diferencia tiempo entre picos}) = \\text{valor hash del fingerprint, tiempo inicial}$"
   ]
  },
  {
   "cell_type": "code",
   "execution_count": null,
   "id": "bd2415bb",
   "metadata": {},
   "outputs": [],
   "source": []
  },
  {
   "cell_type": "code",
   "execution_count": null,
   "id": "2534b314",
   "metadata": {},
   "outputs": [],
   "source": []
  },
  {
   "cell_type": "code",
   "execution_count": null,
   "id": "4f053e98",
   "metadata": {},
   "outputs": [],
   "source": []
  },
  {
   "cell_type": "markdown",
   "id": "a91330f0",
   "metadata": {},
   "source": [
    "### 06 - Base de datos (SQL)"
   ]
  },
  {
   "cell_type": "markdown",
   "id": "a695e9d6",
   "metadata": {},
   "source": [
    "**Creación tabla de canciones**\n",
    "\n",
    "\n",
    "```sql\n",
    "create table if not exists songs (\n",
    "                \n",
    "                song_id mediumint unsigned not null auto_increment,\n",
    "                song_name varchar(250) not null,\n",
    "                fingerprinted tinyint default 0,\n",
    "                file_sha1 binary(20) not null,\n",
    "                total_hashes int not null default 0,\n",
    "                date_created  datetime not null default current_timestamp,\n",
    "                date_modified datetime not null default current_timestamp on update current_timestamp,\n",
    "\n",
    "               constraint pk_songs_song_id primary key (song_id),\n",
    "               constraint uq_songs_song_id unique key (song_id)\n",
    "    \n",
    "         );\n",
    "```"
   ]
  },
  {
   "cell_type": "markdown",
   "id": "1e01339e",
   "metadata": {},
   "source": [
    "    "
   ]
  },
  {
   "cell_type": "markdown",
   "id": "8d449e69",
   "metadata": {},
   "source": [
    "**Creacion tabla de fingerprints**\n",
    "\n",
    "```sql\n",
    "create table if not exists fingerprints (\n",
    "    \n",
    "                    hash binary(10) not null,\n",
    "                    song_id mediumint unsigned not null,\n",
    "                    offset int unsigned not null,\n",
    "                    date_created  datetime not null default current_timestamp,\n",
    "                    date_modified datetime not null default current_timestamp on update current_timestamp,\n",
    "                   \n",
    "    \n",
    "   index ix_fingerprints_hash (hash),\n",
    "\n",
    "   constraint uq_fingerprints_song_id_offset_hash unique key (song_id, offset, hash),\n",
    "   constraint fk_fingerprints_song_id foreign key (song_id) references fingerprints(song_id) on delete cascade\n",
    "            );\n",
    "\n",
    "```"
   ]
  },
  {
   "cell_type": "markdown",
   "id": "9d695b0b",
   "metadata": {},
   "source": [
    "       "
   ]
  },
  {
   "cell_type": "markdown",
   "id": "b88f680c",
   "metadata": {},
   "source": [
    "**Inserción de datos en tabla canciones**\n",
    "\n",
    "```sql\n",
    "insert into songs (song_name, file_sha1, total_hashes) \n",
    "       values (song_name_data, UNHEX(file_sha1_data), total_hashes_data);\n",
    "```"
   ]
  },
  {
   "cell_type": "markdown",
   "id": "cf8ab7b5",
   "metadata": {},
   "source": [
    "           "
   ]
  },
  {
   "cell_type": "markdown",
   "id": "b89df69c",
   "metadata": {},
   "source": [
    "**Inserción de datos en tabla fingerprints**\n",
    "\n",
    "```sql\n",
    "insert ignore into fingerprints (hash, song_id, offset) \n",
    "              values (UNHEX(hash_data), song_id_data, offset_data);\n",
    "```"
   ]
  },
  {
   "cell_type": "markdown",
   "id": "7c2dbdb6",
   "metadata": {},
   "source": [
    "        "
   ]
  },
  {
   "cell_type": "markdown",
   "id": "091d213a",
   "metadata": {},
   "source": [
    "**búsqueda de canción**\n",
    "\n",
    "```sql\n",
    "select HEX(hash), song_id, offset from fingerprints where hash in (hash_data);\n",
    "```"
   ]
  },
  {
   "cell_type": "markdown",
   "id": "77c838bf",
   "metadata": {},
   "source": [
    "### 07 - Detección"
   ]
  },
  {
   "cell_type": "code",
   "execution_count": null,
   "id": "def5cf46",
   "metadata": {},
   "outputs": [],
   "source": []
  },
  {
   "cell_type": "code",
   "execution_count": null,
   "id": "1afb69eb",
   "metadata": {},
   "outputs": [],
   "source": []
  },
  {
   "cell_type": "code",
   "execution_count": null,
   "id": "61a4cc58",
   "metadata": {},
   "outputs": [],
   "source": []
  },
  {
   "cell_type": "code",
   "execution_count": null,
   "id": "72590637",
   "metadata": {},
   "outputs": [],
   "source": []
  },
  {
   "cell_type": "code",
   "execution_count": null,
   "id": "120b2a0b",
   "metadata": {},
   "outputs": [],
   "source": []
  },
  {
   "cell_type": "code",
   "execution_count": null,
   "id": "22b7e00d",
   "metadata": {},
   "outputs": [],
   "source": []
  },
  {
   "cell_type": "markdown",
   "id": "d43e85f2",
   "metadata": {},
   "source": [
    "### 08 - API (deploy)"
   ]
  },
  {
   "cell_type": "markdown",
   "id": "a1546d32",
   "metadata": {},
   "source": [
    "```python\n",
    "\n",
    "from flask import Flask, request\n",
    "from flask_cors import CORS        # cross-origin resource sharing\n",
    "\n",
    "from chazam import Chazam\n",
    "\n",
    "import json\n",
    "\n",
    "from config import WAV_PATH, COVERS, DATA_DEFAULT\n",
    "\n",
    "\n",
    "app=Flask(__name__)\n",
    "\n",
    "cors=CORS(app, resources={r'*': {'origins': '*'}})\n",
    "\n",
    "ih_chazam=Chazam()\n",
    "\n",
    "\n",
    "@app.route('/', methods=['POST', 'GET'])\n",
    "def main():\n",
    "\n",
    "    audio=request.files['blob']\n",
    "    audio.save(WAV_PATH)\n",
    "\n",
    "    song=ih_chazam.recognize(WAV_PATH)\n",
    "\n",
    "    if song['results'][0]['input_confidence']<0.04:\n",
    "        return json.dumps(DATA_DEFAULT), 200\n",
    "\n",
    "    else:\n",
    "\n",
    "        song_name=song['results'][0]['song_name'].decode('utf-8').split('-')\n",
    "\n",
    "        data={'artist': song_name[0].strip(),\n",
    "              'song': song_name[1].strip(),\n",
    "              'cover': COVERS[song['results'][0]['song_name'].decode('utf-8')],\n",
    "              'match_time': song['total_time']\n",
    "              }\n",
    "\n",
    "        return json.dumps(data), 200\n",
    "\n",
    "   \n",
    "if __name__== '__main__':\n",
    "    app.run(debug=True)\n",
    "\n",
    "\n",
    "\n",
    "\n",
    "```"
   ]
  }
 ],
 "metadata": {
  "finalized": {
   "timestamp": 1654002753894,
   "trusted": true
  },
  "kernelspec": {
   "display_name": "tensor",
   "language": "python",
   "name": "tensor"
  },
  "language_info": {
   "codemirror_mode": {
    "name": "ipython",
    "version": 3
   },
   "file_extension": ".py",
   "mimetype": "text/x-python",
   "name": "python",
   "nbconvert_exporter": "python",
   "pygments_lexer": "ipython3",
   "version": "3.8.13"
  }
 },
 "nbformat": 4,
 "nbformat_minor": 5
}
