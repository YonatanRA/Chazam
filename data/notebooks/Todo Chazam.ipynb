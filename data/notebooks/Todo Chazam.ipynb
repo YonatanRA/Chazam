{
 "cells": [
  {
   "cell_type": "markdown",
   "id": "813c6717",
   "metadata": {},
   "source": [
    "# Extraccion"
   ]
  },
  {
   "cell_type": "code",
   "execution_count": 1,
   "id": "5b60f224",
   "metadata": {},
   "outputs": [],
   "source": [
    "import warnings\n",
    "warnings.filterwarnings('ignore')\n",
    "\n",
    "import youtube_dl\n",
    "from pydub import AudioSegment\n",
    "\n",
    "import time\n",
    "import IPython.display as ipd\n",
    "\n",
    "import os"
   ]
  },
  {
   "cell_type": "markdown",
   "id": "ce607f32",
   "metadata": {},
   "source": [
    "**Covers**"
   ]
  },
  {
   "cell_type": "code",
   "execution_count": 2,
   "id": "c565985f",
   "metadata": {},
   "outputs": [],
   "source": [
    "COVERS={\n",
    "            'Rosalía - Saoko' : 'https://images.genius.com/717bbc9f2bb3c17d3a8161b898f682e1.1000x1000x1.png',\n",
    "            'Rosalía - Chicken Teriyaki': 'https://images.genius.com/717bbc9f2bb3c17d3a8161b898f682e1.1000x1000x1.png',\n",
    "            'Robert Miles - Children': 'https://m.media-amazon.com/images/I/91wmq5EE0zL._SL1414_.jpg',\n",
    "            'Chanel - SloMo': 'https://images.genius.com/0ee67ebc42b7c0d9924dcd8148dea503.1000x1000x1.png',\n",
    "            'Masayoshi Takanaka - Manifestation': 'https://i.discogs.com/tpI98ojXWZd4BS47eeHlzDTVkPTeUgfYRwY2vxy0t0I/rs:fit/g:sm/q:90/h:568/w:600/czM6Ly9kaXNjb2dz/LWRhdGFiYXNlLWlt/YWdlcy9SLTE5NzEz/NDQ4LTE2Mjc5MDgz/OTItMTk4NC5qcGVn.jpeg',\n",
    "            'Masayoshi Takanaka - Speed of Love': 'https://i.scdn.co/image/ab67616d0000b273047f1d8d58425016d92dffec',\n",
    "            'Radio Futura - Han caído los dos': 'https://i.ytimg.com/vi/dk0njJTT7Q8/hqdefault.jpg',\n",
    "            'Michael Jackson - Workin Day and Night': 'https://i1.sndcdn.com/artworks-000503561646-j6vazd-t500x500.jpg',\n",
    "            'Jamiroquai - Runaway': 'https://m.media-amazon.com/images/I/51T72MN2C7L._SX425_.jpg',\n",
    "            'Radio Futura - Escuela de Calor': 'https://undiaundisco.files.wordpress.com/2015/05/escuela-de-calor.jpg',\n",
    "            'The Doors - L.A. Woman': 'https://www.lahabitacion235.com/wp-content/uploads/2017/12/The-Doors-L.A.-Woman.jpg',\n",
    "            'Santana ft. Mana - Corazon Espinado': 'https://i.discogs.com/K5lqQBfdIAoo2ZXlUTuWCVnMWJriezS68imzB4EIl20/rs:fit/g:sm/q:90/h:507/w:600/czM6Ly9kaXNjb2dz/LWRhdGFiYXNlLWlt/YWdlcy9SLTcyOTk0/OTUtMTUyNjg2MTIy/MC01NTkwLmpwZWc.jpeg',\n",
    "            'Foals - Wake Me Up': 'https://www.rockzonemag.com/wp-content/uploads/2021/11/FOALS_WMU.gif',\n",
    "            'Yello - Oh Yeah': 'https://i1.sndcdn.com/artworks-000208466318-l6lpg5-t500x500.jpg',\n",
    "            'Woodkid - Run Boy Run': 'https://pics.filmaffinity.com/Woodkid_Run_Boy_Run_V_deo_musical-191105087-large.jpg',\n",
    "            'Parcels - Lightenup': 'https://i.ytimg.com/vi/BBDwPuq-aWM/maxresdefault.jpg',\n",
    "            'Stardust - Music Sounds Better With You': 'https://i.ytimg.com/vi/FQlAEiCb8m0/maxresdefault.jpg',\n",
    "            'Too Many Zooz - Bad Guy': 'https://i.ytimg.com/vi/iD4RyLt_FbE/maxresdefault.jpg',\n",
    "            'Charlie Winston - Lately': 'https://i.scdn.co/image/ab67616d0000b27398fa77ab7369e87401fd420a',\n",
    "            'Wax Tailor Ft. Charlie Winston - I Own You': 'https://i.ytimg.com/vi/PYsEo4TTTtM/maxresdefault.jpg',\n",
    "            'Måneskin - Beggin': 'https://i1.sndcdn.com/artworks-FwMjIfwKk3NLXoyH-LllOIw-t500x500.jpg',\n",
    "            'Daft Punk ft. Pharrell Williams - Get Lucky': 'https://m.media-amazon.com/images/I/61DVe0f7EWL._SS500_.jpg',\n",
    "            'Red Hot Chili Peppers - Go Robot': 'https://m.media-amazon.com/images/I/51Eby0+By+L._SX450_.jpg',\n",
    "            'Michael Jackson - Billie Jean': 'https://i.discogs.com/Bt5Iot_gGPssTvrUFn2f0RZj1M04GKHhadwYMrCA-aw/rs:fit/g:sm/q:90/h:597/w:600/czM6Ly9kaXNjb2dz/LWRhdGFiYXNlLWlt/YWdlcy9SLTY1NjE2/OC0xNTg2MzQxMDQ4/LTg0NTkuanBlZw.jpeg',\n",
    "            'Daft Punk - One More Time': 'https://www.yaconic.com/wp-content/uploads/2019/10/daft-punk--1024x576.jpg',\n",
    "            'OutKast - Hey Ya!': 'https://i.discogs.com/6wFhFFheU2Oqg7R8GLCMeYA8BKXOQZZMvKC1Mk-MBqw/rs:fit/g:sm/q:90/h:521/w:600/czM6Ly9kaXNjb2dz/LWRhdGFiYXNlLWlt/YWdlcy9SLTQxNTAy/Ny0xNTM0Njk3ODg5/LTY3NzYuanBlZw.jpeg',\n",
    "\n",
    "         }"
   ]
  },
  {
   "cell_type": "code",
   "execution_count": 3,
   "id": "2f728e7f",
   "metadata": {},
   "outputs": [
    {
     "data": {
      "text/plain": [
       "26"
      ]
     },
     "execution_count": 3,
     "metadata": {},
     "output_type": "execute_result"
    }
   ],
   "source": [
    "len(COVERS.keys())"
   ]
  },
  {
   "cell_type": "markdown",
   "id": "394b7fad",
   "metadata": {},
   "source": [
    "**Links Youtube**"
   ]
  },
  {
   "cell_type": "code",
   "execution_count": 4,
   "id": "9f29da07",
   "metadata": {},
   "outputs": [],
   "source": [
    "##original\n",
    "\n",
    "extracted_links={\n",
    "                 'Rosalía - Saoko': 'https://www.youtube.com/watch?v=6o7bCAZSxsg&ab_channel=RosaliaVEVO',\n",
    "                 'Rosalía - Chicken Teriyaki': 'https://www.youtube.com/watch?v=OG4gq9fCoRE&ab_channel=RosaliaVEVO',\n",
    "                 'Robert Miles - Children': 'https://www.youtube.com/watch?v=CC5ca6Hsb2Q&ab_channel=RobertMiles',\n",
    "                 'Chanel - SloMo': 'https://www.youtube.com/watch?v=Dwyefl6itpI&ab_channel=ChanelOfficial',\n",
    "                 'Masayoshi Takanaka - Manifestation': 'https://www.youtube.com/watch?v=6qSYyb9G3DU&ab_channel=MetaRock',\n",
    "                 'Masayoshi Takanaka - Speed of Love': 'https://www.youtube.com/watch?v=AcBm6qynqrs&ab_channel=JeanAraujo',\n",
    "                 'Radio Futura - Han caído los dos': 'https://www.youtube.com/watch?v=dk0njJTT7Q8&ab_channel=miguelrubio',\n",
    "                 'Michael Jackson - Workin Day and Night': 'https://www.youtube.com/watch?v=MWnyCxva6bA&ab_channel=michaeljacksonVEVO',\n",
    "                 'Jamiroquai - Runaway': 'https://www.youtube.com/watch?v=uldpc4rWNXQ&ab_channel=JamiroquaiVEVO',\n",
    "                 'Radio Futura - Escuela de Calor': 'https://www.youtube.com/watch?v=LyCQvyrZzW0&ab_channel=RadioFuturaVEVO',\n",
    "                 'The Doors - L.A. Woman': 'https://www.youtube.com/watch?v=vHXjcdNIN-Q&ab_channel=TheDoors-Topic',\n",
    "                 'Santana ft. Mana - Corazon Espinado': 'https://www.youtube.com/watch?v=p_oLQAvkUFg&ab_channel=Santana-Topic',\n",
    "                 'Foals - Wake Me Up': 'https://www.youtube.com/watch?v=-jvUFIVdR-Y&ab_channel=Foals',\n",
    "                 'Yello - Oh Yeah': 'https://www.youtube.com/watch?v=6jJkdRaa04g&ab_channel=YelloVEVO',\n",
    "                 'Woodkid - Run Boy Run': 'https://www.youtube.com/watch?v=lmc21V-zBq0&ab_channel=WOODKID',\n",
    "                 'Parcels - Lightenup': 'https://www.youtube.com/watch?v=bJl-avjRgzU&ab_channel=COLORS',\n",
    "                 'Stardust - Music Sounds Better With You': 'https://www.youtube.com/watch?v=FQlAEiCb8m0&ab_channel=Stardust',\n",
    "                 'Too Many Zooz - Bad Guy': 'https://www.youtube.com/watch?v=iD4RyLt_FbE&ab_channel=TooManyZooz',\n",
    "                 'Charlie Winston - Lately': 'https://www.youtube.com/watch?v=uY-n30EXPyk&ab_channel=CharlieWinstonVEVO',\n",
    "                 'Wax Tailor Ft. Charlie Winston - I Own You': 'https://www.youtube.com/watch?v=PYsEo4TTTtM&ab_channel=WAXTAILOR',\n",
    "                 'Måneskin - Beggin': 'https://www.youtube.com/watch?v=8fYR_ayjES0&ab_channel=%C3%9ANICOMUSIC',\n",
    "                 'Daft Punk ft. Pharrell Williams - Get Lucky': 'https://www.youtube.com/watch?v=5NV6Rdv1a3I&ab_channel=DaftPunkVEVO',\n",
    "                 'Red Hot Chili Peppers - Go Robot': 'https://www.youtube.com/watch?v=HI-8CVixZ5o&ab_channel=RedHotChiliPeppers',\n",
    "                 'Michael Jackson - Billie Jean': 'https://www.youtube.com/watch?v=Zi_XLOBDo_Y&ab_channel=michaeljacksonVEVO',\n",
    "                 'Daft Punk - One More Time': 'https://www.youtube.com/watch?v=FGBhQbmPwH8&ab_channel=DaftPunk',\n",
    "                 'OutKast - Hey Ya!': 'https://www.youtube.com/watch?v=YPIPRbWuKg4&ab_channel=%E2%9C%A7riceheims%E2%9C%A6',\n",
    "                 'Joan As Police Woman - Holy City': 'https://www.youtube.com/watch?v=zS5pjxseTQM&ab_channel=JoanAsPoliceWoman',\n",
    "                 'Muchachito Bombo Inferno - Más que breve': 'https://www.youtube.com/watch?v=YrecEtlHJVY&ab_channel=MuchachitoBomboInfierno-Topic',\n",
    "                 'Breakbot - Be Mine Tonight': 'https://www.youtube.com/watch?v=n_eB8oPIaIE&ab_channel=Breakbot',\n",
    "                 'The Strokes - Machu Picchu': 'https://www.youtube.com/watch?v=3JxoUo43Zg8&ab_channel=Angles',\n",
    "                 'Mr Oizo - Flat beat': 'https://www.youtube.com/watch?v=qmsbP13xu6k&ab_channel=fcommunications',\n",
    "                 'Jamiroquai - (Dont) Give Hate a Chance': 'https://www.youtube.com/watch?v=LHj_WC_IzFc&list=RDuldpc4rWNXQ&index=13&ab_channel=JamiroquaiVEVO',\n",
    "    \n",
    "               }"
   ]
  },
  {
   "cell_type": "code",
   "execution_count": 5,
   "id": "94da408c",
   "metadata": {},
   "outputs": [
    {
     "data": {
      "text/plain": [
       "31"
      ]
     },
     "execution_count": 5,
     "metadata": {},
     "output_type": "execute_result"
    }
   ],
   "source": [
    "len(extracted_links.keys())"
   ]
  },
  {
   "cell_type": "code",
   "execution_count": 6,
   "id": "76627731",
   "metadata": {},
   "outputs": [
    {
     "data": {
      "text/plain": [
       "False"
      ]
     },
     "execution_count": 6,
     "metadata": {},
     "output_type": "execute_result"
    }
   ],
   "source": [
    "extracted_links.keys()==COVERS.keys()"
   ]
  },
  {
   "cell_type": "markdown",
   "id": "64aa22ee",
   "metadata": {},
   "source": [
    "**Extraccion**"
   ]
  },
  {
   "cell_type": "code",
   "execution_count": 7,
   "id": "1d7c5124",
   "metadata": {},
   "outputs": [],
   "source": [
    "def song_download(nombre, link):\n",
    "    \n",
    "    ydl_options={'format': 'bestaudio/best',      # audio format\n",
    "                          'postprocessors': [{\n",
    "                            'key': 'FFmpegExtractAudio',  # codecs and quality\n",
    "                            'preferredcodec': 'wav',\n",
    "                            'preferredquality': '192',\n",
    "                             }], \n",
    "                          'outtmpl': f'wav/{nombre}.m4a'      # save path\n",
    "                         }\n",
    "    \n",
    "    \n",
    "    # download mp3 file from youtube\n",
    "    with youtube_dl.YoutubeDL(ydl_options) as ydl:\n",
    "        ydl.download([link])"
   ]
  },
  {
   "cell_type": "code",
   "execution_count": 8,
   "id": "313b69a7",
   "metadata": {},
   "outputs": [],
   "source": [
    "links={\n",
    "    #'': '',\n",
    "    'Gorillaz - Feel Good Inc':'https://www.youtube.com/watch?v=HyHNuVaZJ-k&ab_channel=Gorillaz',\n",
    "}"
   ]
  },
  {
   "cell_type": "code",
   "execution_count": 9,
   "id": "f5a35f29",
   "metadata": {},
   "outputs": [
    {
     "name": "stdout",
     "output_type": "stream",
     "text": [
      "Jamiroquai - (Dont) Give Hate a Chance https://www.youtube.com/watch?v=LHj_WC_IzFc&list=RDuldpc4rWNXQ&index=13&ab_channel=JamiroquaiVEVO\n",
      "[youtube:tab] Downloading playlist RDuldpc4rWNXQ - add --no-playlist to just download video LHj_WC_IzFc\n",
      "[youtube:tab] RDuldpc4rWNXQ: Downloading webpage\n",
      "[download] Downloading playlist: Mix - Jamiroquai - Runaway (Video)\n",
      "[youtube:tab] playlist Mix - Jamiroquai - Runaway (Video): Downloading 25 videos\n",
      "[download] Downloading video 1 of 25\n",
      "[youtube] LHj_WC_IzFc: Downloading webpage\n",
      "[download] Destination: wav/Jamiroquai - (Dont) Give Hate a Chance.m4a\n",
      "[download] 100% of 3.61MiB in 01:0551KiB/s ETA 00:00\n",
      "[ffmpeg] Destination: wav/Jamiroquai - (Dont) Give Hate a Chance.wav\n",
      "Deleting original file wav/Jamiroquai - (Dont) Give Hate a Chance.m4a (pass -k to keep)\n",
      "[download] Downloading video 2 of 25\n",
      "[youtube] uldpc4rWNXQ: Downloading webpage\n",
      "[download] Destination: wav/Jamiroquai - (Dont) Give Hate a Chance.m4a\n",
      "[download]  25.7% of 3.65MiB at 44.48KiB/s ETA 01:02"
     ]
    },
    {
     "ename": "KeyboardInterrupt",
     "evalue": "",
     "output_type": "error",
     "traceback": [
      "\u001b[0;31m---------------------------------------------------------------------------\u001b[0m",
      "\u001b[0;31mKeyboardInterrupt\u001b[0m                         Traceback (most recent call last)",
      "Input \u001b[0;32mIn [9]\u001b[0m, in \u001b[0;36m<cell line: 1>\u001b[0;34m()\u001b[0m\n\u001b[1;32m      1\u001b[0m \u001b[38;5;28;01mfor\u001b[39;00m nombre, link \u001b[38;5;129;01min\u001b[39;00m links\u001b[38;5;241m.\u001b[39mitems():\n\u001b[1;32m      2\u001b[0m     \u001b[38;5;28mprint\u001b[39m(nombre, link)\n\u001b[0;32m----> 3\u001b[0m     \u001b[43msong_download\u001b[49m\u001b[43m(\u001b[49m\u001b[43mnombre\u001b[49m\u001b[43m,\u001b[49m\u001b[43m \u001b[49m\u001b[43mlink\u001b[49m\u001b[43m)\u001b[49m\n",
      "Input \u001b[0;32mIn [7]\u001b[0m, in \u001b[0;36msong_download\u001b[0;34m(nombre, link)\u001b[0m\n\u001b[1;32m     13\u001b[0m \u001b[38;5;66;03m# download mp3 file from youtube\u001b[39;00m\n\u001b[1;32m     14\u001b[0m \u001b[38;5;28;01mwith\u001b[39;00m youtube_dl\u001b[38;5;241m.\u001b[39mYoutubeDL(ydl_options) \u001b[38;5;28;01mas\u001b[39;00m ydl:\n\u001b[0;32m---> 15\u001b[0m     \u001b[43mydl\u001b[49m\u001b[38;5;241;43m.\u001b[39;49m\u001b[43mdownload\u001b[49m\u001b[43m(\u001b[49m\u001b[43m[\u001b[49m\u001b[43mlink\u001b[49m\u001b[43m]\u001b[49m\u001b[43m)\u001b[49m\n",
      "File \u001b[0;32m~/miniforge3/envs/tensor/lib/python3.8/site-packages/youtube_dl/YoutubeDL.py:2068\u001b[0m, in \u001b[0;36mYoutubeDL.download\u001b[0;34m(self, url_list)\u001b[0m\n\u001b[1;32m   2065\u001b[0m \u001b[38;5;28;01mfor\u001b[39;00m url \u001b[38;5;129;01min\u001b[39;00m url_list:\n\u001b[1;32m   2066\u001b[0m     \u001b[38;5;28;01mtry\u001b[39;00m:\n\u001b[1;32m   2067\u001b[0m         \u001b[38;5;66;03m# It also downloads the videos\u001b[39;00m\n\u001b[0;32m-> 2068\u001b[0m         res \u001b[38;5;241m=\u001b[39m \u001b[38;5;28;43mself\u001b[39;49m\u001b[38;5;241;43m.\u001b[39;49m\u001b[43mextract_info\u001b[49m\u001b[43m(\u001b[49m\n\u001b[1;32m   2069\u001b[0m \u001b[43m            \u001b[49m\u001b[43murl\u001b[49m\u001b[43m,\u001b[49m\u001b[43m \u001b[49m\u001b[43mforce_generic_extractor\u001b[49m\u001b[38;5;241;43m=\u001b[39;49m\u001b[38;5;28;43mself\u001b[39;49m\u001b[38;5;241;43m.\u001b[39;49m\u001b[43mparams\u001b[49m\u001b[38;5;241;43m.\u001b[39;49m\u001b[43mget\u001b[49m\u001b[43m(\u001b[49m\u001b[38;5;124;43m'\u001b[39;49m\u001b[38;5;124;43mforce_generic_extractor\u001b[39;49m\u001b[38;5;124;43m'\u001b[39;49m\u001b[43m,\u001b[49m\u001b[43m \u001b[49m\u001b[38;5;28;43;01mFalse\u001b[39;49;00m\u001b[43m)\u001b[49m\u001b[43m)\u001b[49m\n\u001b[1;32m   2070\u001b[0m     \u001b[38;5;28;01mexcept\u001b[39;00m UnavailableVideoError:\n\u001b[1;32m   2071\u001b[0m         \u001b[38;5;28mself\u001b[39m\u001b[38;5;241m.\u001b[39mreport_error(\u001b[38;5;124m'\u001b[39m\u001b[38;5;124munable to download video\u001b[39m\u001b[38;5;124m'\u001b[39m)\n",
      "File \u001b[0;32m~/miniforge3/envs/tensor/lib/python3.8/site-packages/youtube_dl/YoutubeDL.py:808\u001b[0m, in \u001b[0;36mYoutubeDL.extract_info\u001b[0;34m(self, url, download, ie_key, extra_info, process, force_generic_extractor)\u001b[0m\n\u001b[1;32m    804\u001b[0m     \u001b[38;5;28;01mif\u001b[39;00m \u001b[38;5;129;01mnot\u001b[39;00m ie\u001b[38;5;241m.\u001b[39mworking():\n\u001b[1;32m    805\u001b[0m         \u001b[38;5;28mself\u001b[39m\u001b[38;5;241m.\u001b[39mreport_warning(\u001b[38;5;124m'\u001b[39m\u001b[38;5;124mThe program functionality for this site has been marked as broken, \u001b[39m\u001b[38;5;124m'\u001b[39m\n\u001b[1;32m    806\u001b[0m                             \u001b[38;5;124m'\u001b[39m\u001b[38;5;124mand will probably not work.\u001b[39m\u001b[38;5;124m'\u001b[39m)\n\u001b[0;32m--> 808\u001b[0m     \u001b[38;5;28;01mreturn\u001b[39;00m \u001b[38;5;28;43mself\u001b[39;49m\u001b[38;5;241;43m.\u001b[39;49m\u001b[43m__extract_info\u001b[49m\u001b[43m(\u001b[49m\u001b[43murl\u001b[49m\u001b[43m,\u001b[49m\u001b[43m \u001b[49m\u001b[43mie\u001b[49m\u001b[43m,\u001b[49m\u001b[43m \u001b[49m\u001b[43mdownload\u001b[49m\u001b[43m,\u001b[49m\u001b[43m \u001b[49m\u001b[43mextra_info\u001b[49m\u001b[43m,\u001b[49m\u001b[43m \u001b[49m\u001b[43mprocess\u001b[49m\u001b[43m)\u001b[49m\n\u001b[1;32m    809\u001b[0m \u001b[38;5;28;01melse\u001b[39;00m:\n\u001b[1;32m    810\u001b[0m     \u001b[38;5;28mself\u001b[39m\u001b[38;5;241m.\u001b[39mreport_error(\u001b[38;5;124m'\u001b[39m\u001b[38;5;124mno suitable InfoExtractor for URL \u001b[39m\u001b[38;5;132;01m%s\u001b[39;00m\u001b[38;5;124m'\u001b[39m \u001b[38;5;241m%\u001b[39m url)\n",
      "File \u001b[0;32m~/miniforge3/envs/tensor/lib/python3.8/site-packages/youtube_dl/YoutubeDL.py:815\u001b[0m, in \u001b[0;36mYoutubeDL.__handle_extraction_exceptions.<locals>.wrapper\u001b[0;34m(self, *args, **kwargs)\u001b[0m\n\u001b[1;32m    813\u001b[0m \u001b[38;5;28;01mdef\u001b[39;00m \u001b[38;5;21mwrapper\u001b[39m(\u001b[38;5;28mself\u001b[39m, \u001b[38;5;241m*\u001b[39margs, \u001b[38;5;241m*\u001b[39m\u001b[38;5;241m*\u001b[39mkwargs):\n\u001b[1;32m    814\u001b[0m     \u001b[38;5;28;01mtry\u001b[39;00m:\n\u001b[0;32m--> 815\u001b[0m         \u001b[38;5;28;01mreturn\u001b[39;00m \u001b[43mfunc\u001b[49m\u001b[43m(\u001b[49m\u001b[38;5;28;43mself\u001b[39;49m\u001b[43m,\u001b[49m\u001b[43m \u001b[49m\u001b[38;5;241;43m*\u001b[39;49m\u001b[43margs\u001b[49m\u001b[43m,\u001b[49m\u001b[43m \u001b[49m\u001b[38;5;241;43m*\u001b[39;49m\u001b[38;5;241;43m*\u001b[39;49m\u001b[43mkwargs\u001b[49m\u001b[43m)\u001b[49m\n\u001b[1;32m    816\u001b[0m     \u001b[38;5;28;01mexcept\u001b[39;00m GeoRestrictedError \u001b[38;5;28;01mas\u001b[39;00m e:\n\u001b[1;32m    817\u001b[0m         msg \u001b[38;5;241m=\u001b[39m e\u001b[38;5;241m.\u001b[39mmsg\n",
      "File \u001b[0;32m~/miniforge3/envs/tensor/lib/python3.8/site-packages/youtube_dl/YoutubeDL.py:847\u001b[0m, in \u001b[0;36mYoutubeDL.__extract_info\u001b[0;34m(self, url, ie, download, extra_info, process)\u001b[0m\n\u001b[1;32m    845\u001b[0m \u001b[38;5;28mself\u001b[39m\u001b[38;5;241m.\u001b[39madd_default_extra_info(ie_result, ie, url)\n\u001b[1;32m    846\u001b[0m \u001b[38;5;28;01mif\u001b[39;00m process:\n\u001b[0;32m--> 847\u001b[0m     \u001b[38;5;28;01mreturn\u001b[39;00m \u001b[38;5;28;43mself\u001b[39;49m\u001b[38;5;241;43m.\u001b[39;49m\u001b[43mprocess_ie_result\u001b[49m\u001b[43m(\u001b[49m\u001b[43mie_result\u001b[49m\u001b[43m,\u001b[49m\u001b[43m \u001b[49m\u001b[43mdownload\u001b[49m\u001b[43m,\u001b[49m\u001b[43m \u001b[49m\u001b[43mextra_info\u001b[49m\u001b[43m)\u001b[49m\n\u001b[1;32m    848\u001b[0m \u001b[38;5;28;01melse\u001b[39;00m:\n\u001b[1;32m    849\u001b[0m     \u001b[38;5;28;01mreturn\u001b[39;00m ie_result\n",
      "File \u001b[0;32m~/miniforge3/envs/tensor/lib/python3.8/site-packages/youtube_dl/YoutubeDL.py:933\u001b[0m, in \u001b[0;36mYoutubeDL.process_ie_result\u001b[0;34m(self, ie_result, download, extra_info)\u001b[0m\n\u001b[1;32m    931\u001b[0m \u001b[38;5;28mself\u001b[39m\u001b[38;5;241m.\u001b[39m_playlist_urls\u001b[38;5;241m.\u001b[39madd(webpage_url)\n\u001b[1;32m    932\u001b[0m \u001b[38;5;28;01mtry\u001b[39;00m:\n\u001b[0;32m--> 933\u001b[0m     \u001b[38;5;28;01mreturn\u001b[39;00m \u001b[38;5;28;43mself\u001b[39;49m\u001b[38;5;241;43m.\u001b[39;49m\u001b[43m__process_playlist\u001b[49m\u001b[43m(\u001b[49m\u001b[43mie_result\u001b[49m\u001b[43m,\u001b[49m\u001b[43m \u001b[49m\u001b[43mdownload\u001b[49m\u001b[43m)\u001b[49m\n\u001b[1;32m    934\u001b[0m \u001b[38;5;28;01mfinally\u001b[39;00m:\n\u001b[1;32m    935\u001b[0m     \u001b[38;5;28mself\u001b[39m\u001b[38;5;241m.\u001b[39m_playlist_level \u001b[38;5;241m-\u001b[39m\u001b[38;5;241m=\u001b[39m \u001b[38;5;241m1\u001b[39m\n",
      "File \u001b[0;32m~/miniforge3/envs/tensor/lib/python3.8/site-packages/youtube_dl/YoutubeDL.py:1067\u001b[0m, in \u001b[0;36mYoutubeDL.__process_playlist\u001b[0;34m(self, ie_result, download)\u001b[0m\n\u001b[1;32m   1064\u001b[0m     \u001b[38;5;28mself\u001b[39m\u001b[38;5;241m.\u001b[39mto_screen(\u001b[38;5;124m'\u001b[39m\u001b[38;5;124m[download] \u001b[39m\u001b[38;5;124m'\u001b[39m \u001b[38;5;241m+\u001b[39m reason)\n\u001b[1;32m   1065\u001b[0m     \u001b[38;5;28;01mcontinue\u001b[39;00m\n\u001b[0;32m-> 1067\u001b[0m entry_result \u001b[38;5;241m=\u001b[39m \u001b[38;5;28;43mself\u001b[39;49m\u001b[38;5;241;43m.\u001b[39;49m\u001b[43m__process_iterable_entry\u001b[49m\u001b[43m(\u001b[49m\u001b[43mentry\u001b[49m\u001b[43m,\u001b[49m\u001b[43m \u001b[49m\u001b[43mdownload\u001b[49m\u001b[43m,\u001b[49m\u001b[43m \u001b[49m\u001b[43mextra\u001b[49m\u001b[43m)\u001b[49m\n\u001b[1;32m   1068\u001b[0m \u001b[38;5;66;03m# TODO: skip failed (empty) entries?\u001b[39;00m\n\u001b[1;32m   1069\u001b[0m playlist_results\u001b[38;5;241m.\u001b[39mappend(entry_result)\n",
      "File \u001b[0;32m~/miniforge3/envs/tensor/lib/python3.8/site-packages/youtube_dl/YoutubeDL.py:815\u001b[0m, in \u001b[0;36mYoutubeDL.__handle_extraction_exceptions.<locals>.wrapper\u001b[0;34m(self, *args, **kwargs)\u001b[0m\n\u001b[1;32m    813\u001b[0m \u001b[38;5;28;01mdef\u001b[39;00m \u001b[38;5;21mwrapper\u001b[39m(\u001b[38;5;28mself\u001b[39m, \u001b[38;5;241m*\u001b[39margs, \u001b[38;5;241m*\u001b[39m\u001b[38;5;241m*\u001b[39mkwargs):\n\u001b[1;32m    814\u001b[0m     \u001b[38;5;28;01mtry\u001b[39;00m:\n\u001b[0;32m--> 815\u001b[0m         \u001b[38;5;28;01mreturn\u001b[39;00m \u001b[43mfunc\u001b[49m\u001b[43m(\u001b[49m\u001b[38;5;28;43mself\u001b[39;49m\u001b[43m,\u001b[49m\u001b[43m \u001b[49m\u001b[38;5;241;43m*\u001b[39;49m\u001b[43margs\u001b[49m\u001b[43m,\u001b[49m\u001b[43m \u001b[49m\u001b[38;5;241;43m*\u001b[39;49m\u001b[38;5;241;43m*\u001b[39;49m\u001b[43mkwargs\u001b[49m\u001b[43m)\u001b[49m\n\u001b[1;32m    816\u001b[0m     \u001b[38;5;28;01mexcept\u001b[39;00m GeoRestrictedError \u001b[38;5;28;01mas\u001b[39;00m e:\n\u001b[1;32m    817\u001b[0m         msg \u001b[38;5;241m=\u001b[39m e\u001b[38;5;241m.\u001b[39mmsg\n",
      "File \u001b[0;32m~/miniforge3/envs/tensor/lib/python3.8/site-packages/youtube_dl/YoutubeDL.py:1076\u001b[0m, in \u001b[0;36mYoutubeDL.__process_iterable_entry\u001b[0;34m(self, entry, download, extra_info)\u001b[0m\n\u001b[1;32m   1074\u001b[0m \u001b[38;5;129m@__handle_extraction_exceptions\u001b[39m\n\u001b[1;32m   1075\u001b[0m \u001b[38;5;28;01mdef\u001b[39;00m \u001b[38;5;21m__process_iterable_entry\u001b[39m(\u001b[38;5;28mself\u001b[39m, entry, download, extra_info):\n\u001b[0;32m-> 1076\u001b[0m     \u001b[38;5;28;01mreturn\u001b[39;00m \u001b[38;5;28;43mself\u001b[39;49m\u001b[38;5;241;43m.\u001b[39;49m\u001b[43mprocess_ie_result\u001b[49m\u001b[43m(\u001b[49m\n\u001b[1;32m   1077\u001b[0m \u001b[43m        \u001b[49m\u001b[43mentry\u001b[49m\u001b[43m,\u001b[49m\u001b[43m \u001b[49m\u001b[43mdownload\u001b[49m\u001b[38;5;241;43m=\u001b[39;49m\u001b[43mdownload\u001b[49m\u001b[43m,\u001b[49m\u001b[43m \u001b[49m\u001b[43mextra_info\u001b[49m\u001b[38;5;241;43m=\u001b[39;49m\u001b[43mextra_info\u001b[49m\u001b[43m)\u001b[49m\n",
      "File \u001b[0;32m~/miniforge3/envs/tensor/lib/python3.8/site-packages/youtube_dl/YoutubeDL.py:885\u001b[0m, in \u001b[0;36mYoutubeDL.process_ie_result\u001b[0;34m(self, ie_result, download, extra_info)\u001b[0m\n\u001b[1;32m    881\u001b[0m     \u001b[38;5;28;01mreturn\u001b[39;00m \u001b[38;5;28mself\u001b[39m\u001b[38;5;241m.\u001b[39mprocess_video_result(ie_result, download\u001b[38;5;241m=\u001b[39mdownload)\n\u001b[1;32m    882\u001b[0m \u001b[38;5;28;01melif\u001b[39;00m result_type \u001b[38;5;241m==\u001b[39m \u001b[38;5;124m'\u001b[39m\u001b[38;5;124murl\u001b[39m\u001b[38;5;124m'\u001b[39m:\n\u001b[1;32m    883\u001b[0m     \u001b[38;5;66;03m# We have to add extra_info to the results because it may be\u001b[39;00m\n\u001b[1;32m    884\u001b[0m     \u001b[38;5;66;03m# contained in a playlist\u001b[39;00m\n\u001b[0;32m--> 885\u001b[0m     \u001b[38;5;28;01mreturn\u001b[39;00m \u001b[38;5;28;43mself\u001b[39;49m\u001b[38;5;241;43m.\u001b[39;49m\u001b[43mextract_info\u001b[49m\u001b[43m(\u001b[49m\u001b[43mie_result\u001b[49m\u001b[43m[\u001b[49m\u001b[38;5;124;43m'\u001b[39;49m\u001b[38;5;124;43murl\u001b[39;49m\u001b[38;5;124;43m'\u001b[39;49m\u001b[43m]\u001b[49m\u001b[43m,\u001b[49m\n\u001b[1;32m    886\u001b[0m \u001b[43m                             \u001b[49m\u001b[43mdownload\u001b[49m\u001b[43m,\u001b[49m\n\u001b[1;32m    887\u001b[0m \u001b[43m                             \u001b[49m\u001b[43mie_key\u001b[49m\u001b[38;5;241;43m=\u001b[39;49m\u001b[43mie_result\u001b[49m\u001b[38;5;241;43m.\u001b[39;49m\u001b[43mget\u001b[49m\u001b[43m(\u001b[49m\u001b[38;5;124;43m'\u001b[39;49m\u001b[38;5;124;43mie_key\u001b[39;49m\u001b[38;5;124;43m'\u001b[39;49m\u001b[43m)\u001b[49m\u001b[43m,\u001b[49m\n\u001b[1;32m    888\u001b[0m \u001b[43m                             \u001b[49m\u001b[43mextra_info\u001b[49m\u001b[38;5;241;43m=\u001b[39;49m\u001b[43mextra_info\u001b[49m\u001b[43m)\u001b[49m\n\u001b[1;32m    889\u001b[0m \u001b[38;5;28;01melif\u001b[39;00m result_type \u001b[38;5;241m==\u001b[39m \u001b[38;5;124m'\u001b[39m\u001b[38;5;124murl_transparent\u001b[39m\u001b[38;5;124m'\u001b[39m:\n\u001b[1;32m    890\u001b[0m     \u001b[38;5;66;03m# Use the information from the embedding page\u001b[39;00m\n\u001b[1;32m    891\u001b[0m     info \u001b[38;5;241m=\u001b[39m \u001b[38;5;28mself\u001b[39m\u001b[38;5;241m.\u001b[39mextract_info(\n\u001b[1;32m    892\u001b[0m         ie_result[\u001b[38;5;124m'\u001b[39m\u001b[38;5;124murl\u001b[39m\u001b[38;5;124m'\u001b[39m], ie_key\u001b[38;5;241m=\u001b[39mie_result\u001b[38;5;241m.\u001b[39mget(\u001b[38;5;124m'\u001b[39m\u001b[38;5;124mie_key\u001b[39m\u001b[38;5;124m'\u001b[39m),\n\u001b[1;32m    893\u001b[0m         extra_info\u001b[38;5;241m=\u001b[39mextra_info, download\u001b[38;5;241m=\u001b[39m\u001b[38;5;28;01mFalse\u001b[39;00m, process\u001b[38;5;241m=\u001b[39m\u001b[38;5;28;01mFalse\u001b[39;00m)\n",
      "File \u001b[0;32m~/miniforge3/envs/tensor/lib/python3.8/site-packages/youtube_dl/YoutubeDL.py:808\u001b[0m, in \u001b[0;36mYoutubeDL.extract_info\u001b[0;34m(self, url, download, ie_key, extra_info, process, force_generic_extractor)\u001b[0m\n\u001b[1;32m    804\u001b[0m     \u001b[38;5;28;01mif\u001b[39;00m \u001b[38;5;129;01mnot\u001b[39;00m ie\u001b[38;5;241m.\u001b[39mworking():\n\u001b[1;32m    805\u001b[0m         \u001b[38;5;28mself\u001b[39m\u001b[38;5;241m.\u001b[39mreport_warning(\u001b[38;5;124m'\u001b[39m\u001b[38;5;124mThe program functionality for this site has been marked as broken, \u001b[39m\u001b[38;5;124m'\u001b[39m\n\u001b[1;32m    806\u001b[0m                             \u001b[38;5;124m'\u001b[39m\u001b[38;5;124mand will probably not work.\u001b[39m\u001b[38;5;124m'\u001b[39m)\n\u001b[0;32m--> 808\u001b[0m     \u001b[38;5;28;01mreturn\u001b[39;00m \u001b[38;5;28;43mself\u001b[39;49m\u001b[38;5;241;43m.\u001b[39;49m\u001b[43m__extract_info\u001b[49m\u001b[43m(\u001b[49m\u001b[43murl\u001b[49m\u001b[43m,\u001b[49m\u001b[43m \u001b[49m\u001b[43mie\u001b[49m\u001b[43m,\u001b[49m\u001b[43m \u001b[49m\u001b[43mdownload\u001b[49m\u001b[43m,\u001b[49m\u001b[43m \u001b[49m\u001b[43mextra_info\u001b[49m\u001b[43m,\u001b[49m\u001b[43m \u001b[49m\u001b[43mprocess\u001b[49m\u001b[43m)\u001b[49m\n\u001b[1;32m    809\u001b[0m \u001b[38;5;28;01melse\u001b[39;00m:\n\u001b[1;32m    810\u001b[0m     \u001b[38;5;28mself\u001b[39m\u001b[38;5;241m.\u001b[39mreport_error(\u001b[38;5;124m'\u001b[39m\u001b[38;5;124mno suitable InfoExtractor for URL \u001b[39m\u001b[38;5;132;01m%s\u001b[39;00m\u001b[38;5;124m'\u001b[39m \u001b[38;5;241m%\u001b[39m url)\n",
      "File \u001b[0;32m~/miniforge3/envs/tensor/lib/python3.8/site-packages/youtube_dl/YoutubeDL.py:815\u001b[0m, in \u001b[0;36mYoutubeDL.__handle_extraction_exceptions.<locals>.wrapper\u001b[0;34m(self, *args, **kwargs)\u001b[0m\n\u001b[1;32m    813\u001b[0m \u001b[38;5;28;01mdef\u001b[39;00m \u001b[38;5;21mwrapper\u001b[39m(\u001b[38;5;28mself\u001b[39m, \u001b[38;5;241m*\u001b[39margs, \u001b[38;5;241m*\u001b[39m\u001b[38;5;241m*\u001b[39mkwargs):\n\u001b[1;32m    814\u001b[0m     \u001b[38;5;28;01mtry\u001b[39;00m:\n\u001b[0;32m--> 815\u001b[0m         \u001b[38;5;28;01mreturn\u001b[39;00m \u001b[43mfunc\u001b[49m\u001b[43m(\u001b[49m\u001b[38;5;28;43mself\u001b[39;49m\u001b[43m,\u001b[49m\u001b[43m \u001b[49m\u001b[38;5;241;43m*\u001b[39;49m\u001b[43margs\u001b[49m\u001b[43m,\u001b[49m\u001b[43m \u001b[49m\u001b[38;5;241;43m*\u001b[39;49m\u001b[38;5;241;43m*\u001b[39;49m\u001b[43mkwargs\u001b[49m\u001b[43m)\u001b[49m\n\u001b[1;32m    816\u001b[0m     \u001b[38;5;28;01mexcept\u001b[39;00m GeoRestrictedError \u001b[38;5;28;01mas\u001b[39;00m e:\n\u001b[1;32m    817\u001b[0m         msg \u001b[38;5;241m=\u001b[39m e\u001b[38;5;241m.\u001b[39mmsg\n",
      "File \u001b[0;32m~/miniforge3/envs/tensor/lib/python3.8/site-packages/youtube_dl/YoutubeDL.py:847\u001b[0m, in \u001b[0;36mYoutubeDL.__extract_info\u001b[0;34m(self, url, ie, download, extra_info, process)\u001b[0m\n\u001b[1;32m    845\u001b[0m \u001b[38;5;28mself\u001b[39m\u001b[38;5;241m.\u001b[39madd_default_extra_info(ie_result, ie, url)\n\u001b[1;32m    846\u001b[0m \u001b[38;5;28;01mif\u001b[39;00m process:\n\u001b[0;32m--> 847\u001b[0m     \u001b[38;5;28;01mreturn\u001b[39;00m \u001b[38;5;28;43mself\u001b[39;49m\u001b[38;5;241;43m.\u001b[39;49m\u001b[43mprocess_ie_result\u001b[49m\u001b[43m(\u001b[49m\u001b[43mie_result\u001b[49m\u001b[43m,\u001b[49m\u001b[43m \u001b[49m\u001b[43mdownload\u001b[49m\u001b[43m,\u001b[49m\u001b[43m \u001b[49m\u001b[43mextra_info\u001b[49m\u001b[43m)\u001b[49m\n\u001b[1;32m    848\u001b[0m \u001b[38;5;28;01melse\u001b[39;00m:\n\u001b[1;32m    849\u001b[0m     \u001b[38;5;28;01mreturn\u001b[39;00m ie_result\n",
      "File \u001b[0;32m~/miniforge3/envs/tensor/lib/python3.8/site-packages/youtube_dl/YoutubeDL.py:881\u001b[0m, in \u001b[0;36mYoutubeDL.process_ie_result\u001b[0;34m(self, ie_result, download, extra_info)\u001b[0m\n\u001b[1;32m    879\u001b[0m \u001b[38;5;28;01mif\u001b[39;00m result_type \u001b[38;5;241m==\u001b[39m \u001b[38;5;124m'\u001b[39m\u001b[38;5;124mvideo\u001b[39m\u001b[38;5;124m'\u001b[39m:\n\u001b[1;32m    880\u001b[0m     \u001b[38;5;28mself\u001b[39m\u001b[38;5;241m.\u001b[39madd_extra_info(ie_result, extra_info)\n\u001b[0;32m--> 881\u001b[0m     \u001b[38;5;28;01mreturn\u001b[39;00m \u001b[38;5;28;43mself\u001b[39;49m\u001b[38;5;241;43m.\u001b[39;49m\u001b[43mprocess_video_result\u001b[49m\u001b[43m(\u001b[49m\u001b[43mie_result\u001b[49m\u001b[43m,\u001b[49m\u001b[43m \u001b[49m\u001b[43mdownload\u001b[49m\u001b[38;5;241;43m=\u001b[39;49m\u001b[43mdownload\u001b[49m\u001b[43m)\u001b[49m\n\u001b[1;32m    882\u001b[0m \u001b[38;5;28;01melif\u001b[39;00m result_type \u001b[38;5;241m==\u001b[39m \u001b[38;5;124m'\u001b[39m\u001b[38;5;124murl\u001b[39m\u001b[38;5;124m'\u001b[39m:\n\u001b[1;32m    883\u001b[0m     \u001b[38;5;66;03m# We have to add extra_info to the results because it may be\u001b[39;00m\n\u001b[1;32m    884\u001b[0m     \u001b[38;5;66;03m# contained in a playlist\u001b[39;00m\n\u001b[1;32m    885\u001b[0m     \u001b[38;5;28;01mreturn\u001b[39;00m \u001b[38;5;28mself\u001b[39m\u001b[38;5;241m.\u001b[39mextract_info(ie_result[\u001b[38;5;124m'\u001b[39m\u001b[38;5;124murl\u001b[39m\u001b[38;5;124m'\u001b[39m],\n\u001b[1;32m    886\u001b[0m                              download,\n\u001b[1;32m    887\u001b[0m                              ie_key\u001b[38;5;241m=\u001b[39mie_result\u001b[38;5;241m.\u001b[39mget(\u001b[38;5;124m'\u001b[39m\u001b[38;5;124mie_key\u001b[39m\u001b[38;5;124m'\u001b[39m),\n\u001b[1;32m    888\u001b[0m                              extra_info\u001b[38;5;241m=\u001b[39mextra_info)\n",
      "File \u001b[0;32m~/miniforge3/envs/tensor/lib/python3.8/site-packages/youtube_dl/YoutubeDL.py:1692\u001b[0m, in \u001b[0;36mYoutubeDL.process_video_result\u001b[0;34m(self, info_dict, download)\u001b[0m\n\u001b[1;32m   1690\u001b[0m         new_info \u001b[38;5;241m=\u001b[39m \u001b[38;5;28mdict\u001b[39m(info_dict)\n\u001b[1;32m   1691\u001b[0m         new_info\u001b[38;5;241m.\u001b[39mupdate(\u001b[38;5;28mformat\u001b[39m)\n\u001b[0;32m-> 1692\u001b[0m         \u001b[38;5;28;43mself\u001b[39;49m\u001b[38;5;241;43m.\u001b[39;49m\u001b[43mprocess_info\u001b[49m\u001b[43m(\u001b[49m\u001b[43mnew_info\u001b[49m\u001b[43m)\u001b[49m\n\u001b[1;32m   1693\u001b[0m \u001b[38;5;66;03m# We update the info dict with the best quality format (backwards compatibility)\u001b[39;00m\n\u001b[1;32m   1694\u001b[0m info_dict\u001b[38;5;241m.\u001b[39mupdate(formats_to_download[\u001b[38;5;241m-\u001b[39m\u001b[38;5;241m1\u001b[39m])\n",
      "File \u001b[0;32m~/miniforge3/envs/tensor/lib/python3.8/site-packages/youtube_dl/YoutubeDL.py:1976\u001b[0m, in \u001b[0;36mYoutubeDL.process_info\u001b[0;34m(self, info_dict)\u001b[0m\n\u001b[1;32m   1973\u001b[0m             info_dict[\u001b[38;5;124m'\u001b[39m\u001b[38;5;124m__files_to_merge\u001b[39m\u001b[38;5;124m'\u001b[39m] \u001b[38;5;241m=\u001b[39m downloaded\n\u001b[1;32m   1974\u001b[0m     \u001b[38;5;28;01melse\u001b[39;00m:\n\u001b[1;32m   1975\u001b[0m         \u001b[38;5;66;03m# Just a single file\u001b[39;00m\n\u001b[0;32m-> 1976\u001b[0m         success \u001b[38;5;241m=\u001b[39m \u001b[43mdl\u001b[49m\u001b[43m(\u001b[49m\u001b[43mfilename\u001b[49m\u001b[43m,\u001b[49m\u001b[43m \u001b[49m\u001b[43minfo_dict\u001b[49m\u001b[43m)\u001b[49m\n\u001b[1;32m   1977\u001b[0m \u001b[38;5;28;01mexcept\u001b[39;00m (compat_urllib_error\u001b[38;5;241m.\u001b[39mURLError, compat_http_client\u001b[38;5;241m.\u001b[39mHTTPException, socket\u001b[38;5;241m.\u001b[39merror) \u001b[38;5;28;01mas\u001b[39;00m err:\n\u001b[1;32m   1978\u001b[0m     \u001b[38;5;28mself\u001b[39m\u001b[38;5;241m.\u001b[39mreport_error(\u001b[38;5;124m'\u001b[39m\u001b[38;5;124munable to download video data: \u001b[39m\u001b[38;5;132;01m%s\u001b[39;00m\u001b[38;5;124m'\u001b[39m \u001b[38;5;241m%\u001b[39m error_to_compat_str(err))\n",
      "File \u001b[0;32m~/miniforge3/envs/tensor/lib/python3.8/site-packages/youtube_dl/YoutubeDL.py:1915\u001b[0m, in \u001b[0;36mYoutubeDL.process_info.<locals>.dl\u001b[0;34m(name, info)\u001b[0m\n\u001b[1;32m   1913\u001b[0m \u001b[38;5;28;01mif\u001b[39;00m \u001b[38;5;28mself\u001b[39m\u001b[38;5;241m.\u001b[39mparams\u001b[38;5;241m.\u001b[39mget(\u001b[38;5;124m'\u001b[39m\u001b[38;5;124mverbose\u001b[39m\u001b[38;5;124m'\u001b[39m):\n\u001b[1;32m   1914\u001b[0m     \u001b[38;5;28mself\u001b[39m\u001b[38;5;241m.\u001b[39mto_screen(\u001b[38;5;124m'\u001b[39m\u001b[38;5;124m[debug] Invoking downloader on \u001b[39m\u001b[38;5;132;01m%r\u001b[39;00m\u001b[38;5;124m'\u001b[39m \u001b[38;5;241m%\u001b[39m info\u001b[38;5;241m.\u001b[39mget(\u001b[38;5;124m'\u001b[39m\u001b[38;5;124murl\u001b[39m\u001b[38;5;124m'\u001b[39m))\n\u001b[0;32m-> 1915\u001b[0m \u001b[38;5;28;01mreturn\u001b[39;00m \u001b[43mfd\u001b[49m\u001b[38;5;241;43m.\u001b[39;49m\u001b[43mdownload\u001b[49m\u001b[43m(\u001b[49m\u001b[43mname\u001b[49m\u001b[43m,\u001b[49m\u001b[43m \u001b[49m\u001b[43minfo\u001b[49m\u001b[43m)\u001b[49m\n",
      "File \u001b[0;32m~/miniforge3/envs/tensor/lib/python3.8/site-packages/youtube_dl/downloader/common.py:366\u001b[0m, in \u001b[0;36mFileDownloader.download\u001b[0;34m(self, filename, info_dict)\u001b[0m\n\u001b[1;32m    360\u001b[0m     \u001b[38;5;28mself\u001b[39m\u001b[38;5;241m.\u001b[39mto_screen(\n\u001b[1;32m    361\u001b[0m         \u001b[38;5;124m'\u001b[39m\u001b[38;5;124m[download] Sleeping \u001b[39m\u001b[38;5;132;01m%s\u001b[39;00m\u001b[38;5;124m seconds...\u001b[39m\u001b[38;5;124m'\u001b[39m \u001b[38;5;241m%\u001b[39m (\n\u001b[1;32m    362\u001b[0m             \u001b[38;5;28mint\u001b[39m(sleep_interval) \u001b[38;5;28;01mif\u001b[39;00m sleep_interval\u001b[38;5;241m.\u001b[39mis_integer()\n\u001b[1;32m    363\u001b[0m             \u001b[38;5;28;01melse\u001b[39;00m \u001b[38;5;124m'\u001b[39m\u001b[38;5;132;01m%.2f\u001b[39;00m\u001b[38;5;124m'\u001b[39m \u001b[38;5;241m%\u001b[39m sleep_interval))\n\u001b[1;32m    364\u001b[0m     time\u001b[38;5;241m.\u001b[39msleep(sleep_interval)\n\u001b[0;32m--> 366\u001b[0m \u001b[38;5;28;01mreturn\u001b[39;00m \u001b[38;5;28;43mself\u001b[39;49m\u001b[38;5;241;43m.\u001b[39;49m\u001b[43mreal_download\u001b[49m\u001b[43m(\u001b[49m\u001b[43mfilename\u001b[49m\u001b[43m,\u001b[49m\u001b[43m \u001b[49m\u001b[43minfo_dict\u001b[49m\u001b[43m)\u001b[49m\n",
      "File \u001b[0;32m~/miniforge3/envs/tensor/lib/python3.8/site-packages/youtube_dl/downloader/http.py:352\u001b[0m, in \u001b[0;36mHttpFD.real_download\u001b[0;34m(self, filename, info_dict)\u001b[0m\n\u001b[1;32m    350\u001b[0m \u001b[38;5;28;01mtry\u001b[39;00m:\n\u001b[1;32m    351\u001b[0m     establish_connection()\n\u001b[0;32m--> 352\u001b[0m     \u001b[38;5;28;01mreturn\u001b[39;00m \u001b[43mdownload\u001b[49m\u001b[43m(\u001b[49m\u001b[43m)\u001b[49m\n\u001b[1;32m    353\u001b[0m \u001b[38;5;28;01mexcept\u001b[39;00m RetryDownload \u001b[38;5;28;01mas\u001b[39;00m e:\n\u001b[1;32m    354\u001b[0m     count \u001b[38;5;241m+\u001b[39m\u001b[38;5;241m=\u001b[39m \u001b[38;5;241m1\u001b[39m\n",
      "File \u001b[0;32m~/miniforge3/envs/tensor/lib/python3.8/site-packages/youtube_dl/downloader/http.py:238\u001b[0m, in \u001b[0;36mHttpFD.real_download.<locals>.download\u001b[0;34m()\u001b[0m\n\u001b[1;32m    235\u001b[0m \u001b[38;5;28;01mwhile\u001b[39;00m \u001b[38;5;28;01mTrue\u001b[39;00m:\n\u001b[1;32m    236\u001b[0m     \u001b[38;5;28;01mtry\u001b[39;00m:\n\u001b[1;32m    237\u001b[0m         \u001b[38;5;66;03m# Download and write\u001b[39;00m\n\u001b[0;32m--> 238\u001b[0m         data_block \u001b[38;5;241m=\u001b[39m \u001b[43mctx\u001b[49m\u001b[38;5;241;43m.\u001b[39;49m\u001b[43mdata\u001b[49m\u001b[38;5;241;43m.\u001b[39;49m\u001b[43mread\u001b[49m\u001b[43m(\u001b[49m\u001b[43mblock_size\u001b[49m\u001b[43m \u001b[49m\u001b[38;5;28;43;01mif\u001b[39;49;00m\u001b[43m \u001b[49m\u001b[43mdata_len\u001b[49m\u001b[43m \u001b[49m\u001b[38;5;129;43;01mis\u001b[39;49;00m\u001b[43m \u001b[49m\u001b[38;5;28;43;01mNone\u001b[39;49;00m\u001b[43m \u001b[49m\u001b[38;5;28;43;01melse\u001b[39;49;00m\u001b[43m \u001b[49m\u001b[38;5;28;43mmin\u001b[39;49m\u001b[43m(\u001b[49m\u001b[43mblock_size\u001b[49m\u001b[43m,\u001b[49m\u001b[43m \u001b[49m\u001b[43mdata_len\u001b[49m\u001b[43m \u001b[49m\u001b[38;5;241;43m-\u001b[39;49m\u001b[43m \u001b[49m\u001b[43mbyte_counter\u001b[49m\u001b[43m)\u001b[49m\u001b[43m)\u001b[49m\n\u001b[1;32m    239\u001b[0m     \u001b[38;5;66;03m# socket.timeout is a subclass of socket.error but may not have\u001b[39;00m\n\u001b[1;32m    240\u001b[0m     \u001b[38;5;66;03m# errno set\u001b[39;00m\n\u001b[1;32m    241\u001b[0m     \u001b[38;5;28;01mexcept\u001b[39;00m socket\u001b[38;5;241m.\u001b[39mtimeout \u001b[38;5;28;01mas\u001b[39;00m e:\n",
      "File \u001b[0;32m~/miniforge3/envs/tensor/lib/python3.8/http/client.py:459\u001b[0m, in \u001b[0;36mHTTPResponse.read\u001b[0;34m(self, amt)\u001b[0m\n\u001b[1;32m    456\u001b[0m \u001b[38;5;28;01mif\u001b[39;00m amt \u001b[38;5;129;01mis\u001b[39;00m \u001b[38;5;129;01mnot\u001b[39;00m \u001b[38;5;28;01mNone\u001b[39;00m:\n\u001b[1;32m    457\u001b[0m     \u001b[38;5;66;03m# Amount is given, implement using readinto\u001b[39;00m\n\u001b[1;32m    458\u001b[0m     b \u001b[38;5;241m=\u001b[39m \u001b[38;5;28mbytearray\u001b[39m(amt)\n\u001b[0;32m--> 459\u001b[0m     n \u001b[38;5;241m=\u001b[39m \u001b[38;5;28;43mself\u001b[39;49m\u001b[38;5;241;43m.\u001b[39;49m\u001b[43mreadinto\u001b[49m\u001b[43m(\u001b[49m\u001b[43mb\u001b[49m\u001b[43m)\u001b[49m\n\u001b[1;32m    460\u001b[0m     \u001b[38;5;28;01mreturn\u001b[39;00m \u001b[38;5;28mmemoryview\u001b[39m(b)[:n]\u001b[38;5;241m.\u001b[39mtobytes()\n\u001b[1;32m    461\u001b[0m \u001b[38;5;28;01melse\u001b[39;00m:\n\u001b[1;32m    462\u001b[0m     \u001b[38;5;66;03m# Amount is not given (unbounded read) so we must check self.length\u001b[39;00m\n\u001b[1;32m    463\u001b[0m     \u001b[38;5;66;03m# and self.chunked\u001b[39;00m\n",
      "File \u001b[0;32m~/miniforge3/envs/tensor/lib/python3.8/http/client.py:503\u001b[0m, in \u001b[0;36mHTTPResponse.readinto\u001b[0;34m(self, b)\u001b[0m\n\u001b[1;32m    498\u001b[0m         b \u001b[38;5;241m=\u001b[39m \u001b[38;5;28mmemoryview\u001b[39m(b)[\u001b[38;5;241m0\u001b[39m:\u001b[38;5;28mself\u001b[39m\u001b[38;5;241m.\u001b[39mlength]\n\u001b[1;32m    500\u001b[0m \u001b[38;5;66;03m# we do not use _safe_read() here because this may be a .will_close\u001b[39;00m\n\u001b[1;32m    501\u001b[0m \u001b[38;5;66;03m# connection, and the user is reading more bytes than will be provided\u001b[39;00m\n\u001b[1;32m    502\u001b[0m \u001b[38;5;66;03m# (for example, reading in 1k chunks)\u001b[39;00m\n\u001b[0;32m--> 503\u001b[0m n \u001b[38;5;241m=\u001b[39m \u001b[38;5;28;43mself\u001b[39;49m\u001b[38;5;241;43m.\u001b[39;49m\u001b[43mfp\u001b[49m\u001b[38;5;241;43m.\u001b[39;49m\u001b[43mreadinto\u001b[49m\u001b[43m(\u001b[49m\u001b[43mb\u001b[49m\u001b[43m)\u001b[49m\n\u001b[1;32m    504\u001b[0m \u001b[38;5;28;01mif\u001b[39;00m \u001b[38;5;129;01mnot\u001b[39;00m n \u001b[38;5;129;01mand\u001b[39;00m b:\n\u001b[1;32m    505\u001b[0m     \u001b[38;5;66;03m# Ideally, we would raise IncompleteRead if the content-length\u001b[39;00m\n\u001b[1;32m    506\u001b[0m     \u001b[38;5;66;03m# wasn't satisfied, but it might break compatibility.\u001b[39;00m\n\u001b[1;32m    507\u001b[0m     \u001b[38;5;28mself\u001b[39m\u001b[38;5;241m.\u001b[39m_close_conn()\n",
      "File \u001b[0;32m~/miniforge3/envs/tensor/lib/python3.8/socket.py:669\u001b[0m, in \u001b[0;36mSocketIO.readinto\u001b[0;34m(self, b)\u001b[0m\n\u001b[1;32m    667\u001b[0m \u001b[38;5;28;01mwhile\u001b[39;00m \u001b[38;5;28;01mTrue\u001b[39;00m:\n\u001b[1;32m    668\u001b[0m     \u001b[38;5;28;01mtry\u001b[39;00m:\n\u001b[0;32m--> 669\u001b[0m         \u001b[38;5;28;01mreturn\u001b[39;00m \u001b[38;5;28;43mself\u001b[39;49m\u001b[38;5;241;43m.\u001b[39;49m\u001b[43m_sock\u001b[49m\u001b[38;5;241;43m.\u001b[39;49m\u001b[43mrecv_into\u001b[49m\u001b[43m(\u001b[49m\u001b[43mb\u001b[49m\u001b[43m)\u001b[49m\n\u001b[1;32m    670\u001b[0m     \u001b[38;5;28;01mexcept\u001b[39;00m timeout:\n\u001b[1;32m    671\u001b[0m         \u001b[38;5;28mself\u001b[39m\u001b[38;5;241m.\u001b[39m_timeout_occurred \u001b[38;5;241m=\u001b[39m \u001b[38;5;28;01mTrue\u001b[39;00m\n",
      "File \u001b[0;32m~/miniforge3/envs/tensor/lib/python3.8/ssl.py:1241\u001b[0m, in \u001b[0;36mSSLSocket.recv_into\u001b[0;34m(self, buffer, nbytes, flags)\u001b[0m\n\u001b[1;32m   1237\u001b[0m     \u001b[38;5;28;01mif\u001b[39;00m flags \u001b[38;5;241m!=\u001b[39m \u001b[38;5;241m0\u001b[39m:\n\u001b[1;32m   1238\u001b[0m         \u001b[38;5;28;01mraise\u001b[39;00m \u001b[38;5;167;01mValueError\u001b[39;00m(\n\u001b[1;32m   1239\u001b[0m           \u001b[38;5;124m\"\u001b[39m\u001b[38;5;124mnon-zero flags not allowed in calls to recv_into() on \u001b[39m\u001b[38;5;132;01m%s\u001b[39;00m\u001b[38;5;124m\"\u001b[39m \u001b[38;5;241m%\u001b[39m\n\u001b[1;32m   1240\u001b[0m           \u001b[38;5;28mself\u001b[39m\u001b[38;5;241m.\u001b[39m\u001b[38;5;18m__class__\u001b[39m)\n\u001b[0;32m-> 1241\u001b[0m     \u001b[38;5;28;01mreturn\u001b[39;00m \u001b[38;5;28;43mself\u001b[39;49m\u001b[38;5;241;43m.\u001b[39;49m\u001b[43mread\u001b[49m\u001b[43m(\u001b[49m\u001b[43mnbytes\u001b[49m\u001b[43m,\u001b[49m\u001b[43m \u001b[49m\u001b[43mbuffer\u001b[49m\u001b[43m)\u001b[49m\n\u001b[1;32m   1242\u001b[0m \u001b[38;5;28;01melse\u001b[39;00m:\n\u001b[1;32m   1243\u001b[0m     \u001b[38;5;28;01mreturn\u001b[39;00m \u001b[38;5;28msuper\u001b[39m()\u001b[38;5;241m.\u001b[39mrecv_into(buffer, nbytes, flags)\n",
      "File \u001b[0;32m~/miniforge3/envs/tensor/lib/python3.8/ssl.py:1099\u001b[0m, in \u001b[0;36mSSLSocket.read\u001b[0;34m(self, len, buffer)\u001b[0m\n\u001b[1;32m   1097\u001b[0m \u001b[38;5;28;01mtry\u001b[39;00m:\n\u001b[1;32m   1098\u001b[0m     \u001b[38;5;28;01mif\u001b[39;00m buffer \u001b[38;5;129;01mis\u001b[39;00m \u001b[38;5;129;01mnot\u001b[39;00m \u001b[38;5;28;01mNone\u001b[39;00m:\n\u001b[0;32m-> 1099\u001b[0m         \u001b[38;5;28;01mreturn\u001b[39;00m \u001b[38;5;28;43mself\u001b[39;49m\u001b[38;5;241;43m.\u001b[39;49m\u001b[43m_sslobj\u001b[49m\u001b[38;5;241;43m.\u001b[39;49m\u001b[43mread\u001b[49m\u001b[43m(\u001b[49m\u001b[38;5;28;43mlen\u001b[39;49m\u001b[43m,\u001b[49m\u001b[43m \u001b[49m\u001b[43mbuffer\u001b[49m\u001b[43m)\u001b[49m\n\u001b[1;32m   1100\u001b[0m     \u001b[38;5;28;01melse\u001b[39;00m:\n\u001b[1;32m   1101\u001b[0m         \u001b[38;5;28;01mreturn\u001b[39;00m \u001b[38;5;28mself\u001b[39m\u001b[38;5;241m.\u001b[39m_sslobj\u001b[38;5;241m.\u001b[39mread(\u001b[38;5;28mlen\u001b[39m)\n",
      "\u001b[0;31mKeyboardInterrupt\u001b[0m: "
     ]
    }
   ],
   "source": [
    "for nombre, link in links.items():\n",
    "    print(nombre, link)\n",
    "    song_download(nombre, link)"
   ]
  },
  {
   "cell_type": "markdown",
   "id": "4e7c50f3",
   "metadata": {},
   "source": [
    "# Fingerprinting\n",
    "\n",
    "\n",
    "```python\n",
    "\n",
    "CONFIG={'database': {'host': '127.0.0.1',\n",
    "                     'user': 'root',\n",
    "                     'password': 'password', \n",
    "                     'database': 'fingerprint'}}\n",
    "\n",
    "```"
   ]
  },
  {
   "cell_type": "code",
   "execution_count": 10,
   "id": "36b08a91",
   "metadata": {},
   "outputs": [
    {
     "data": {
      "text/plain": [
       "33"
      ]
     },
     "execution_count": 10,
     "metadata": {},
     "output_type": "execute_result"
    }
   ],
   "source": [
    "wav_list=os.listdir('wav')\n",
    "\n",
    "wav_list=[e for e in wav_list if e!='.DS_Store']\n",
    "\n",
    "len(wav_list)"
   ]
  },
  {
   "cell_type": "code",
   "execution_count": 11,
   "id": "f7df2f1d",
   "metadata": {},
   "outputs": [
    {
     "name": "stdout",
     "output_type": "stream",
     "text": [
      "Fingerprinting...\n",
      "wav/Rosalía - Saoko.wav already fingerprinted, continuing...\n",
      "wav/Foals - Wake Me Up.wav already fingerprinted, continuing...\n",
      "wav/Robert Miles - Children.wav already fingerprinted, continuing...\n",
      "wav/Daft Punk ft. Pharrell Williams - Get Lucky.wav already fingerprinted, continuing...\n",
      "wav/Michael Jackson - Billie Jean.wav already fingerprinted, continuing...\n",
      "wav/The Doors - L.A. Woman.wav already fingerprinted, continuing...\n",
      "wav/Muchachito Bombo Inferno - Más que breve.wav already fingerprinted, continuing...\n",
      "wav/Radio Futura - Han caído los dos.wav already fingerprinted, continuing...\n",
      "wav/Masayoshi Takanaka - Speed of Love.wav already fingerprinted, continuing...\n",
      "wav/Måneskin - Beggin.wav already fingerprinted, continuing...\n",
      "wav/Too Many Zooz - Bad Guy.wav already fingerprinted, continuing...\n",
      "wav/Rosalía - Chicken Teriyaki.wav already fingerprinted, continuing...\n",
      "wav/Mr Oizo - Flat beat.wav already fingerprinted, continuing...\n",
      "wav/OutKast - Hey Ya!.wav already fingerprinted, continuing...\n",
      "wav/The Strokes - Machu Picchu.wav already fingerprinted, continuing...\n",
      "wav/Yello - Oh Yeah.wav already fingerprinted, continuing...\n",
      "wav/Chanel - SloMo.wav already fingerprinted, continuing...\n",
      "wav/Stardust - Music Sounds Better With You.wav already fingerprinted, continuing...\n",
      "wav/Santana ft. Mana - Corazon Espinado.wav already fingerprinted, continuing...\n",
      "wav/Breakbot - Be Mine Tonight.wav already fingerprinted, continuing...\n",
      "wav/Wax Tailor Ft. Charlie Winston - I Own You.wav already fingerprinted, continuing...\n",
      "wav/Charlie Winston - Lately.wav already fingerprinted, continuing...\n",
      "wav/Masayoshi Takanaka - Manifestation.wav already fingerprinted, continuing...\n",
      "wav/Radio Futura - Escuela de Calor.wav already fingerprinted, continuing...\n",
      "wav/Red Hot Chili Peppers - Go Robot.wav already fingerprinted, continuing...\n",
      "wav/Daft Punk - One More Time.wav already fingerprinted, continuing...\n",
      "wav/Michael Jackson - Workin Day and Night.wav already fingerprinted, continuing...\n",
      "wav/Joan As Police Woman - Holy City.wav already fingerprinted, continuing...\n",
      "wav/Parcels - Lightenup.wav already fingerprinted, continuing...\n",
      "wav/Jamiroquai - Runaway.wav already fingerprinted, continuing...\n",
      "wav/Woodkid - Run Boy Run.wav already fingerprinted, continuing...\n",
      "Fingerprinting channel 1/2 for wav/Jamiroquai - (Dont) Give Hate a Chance.wav\n",
      "Finished channel 1/2 for wav/Jamiroquai - (Dont) Give Hate a Chance.wav\n",
      "Fingerprinting channel 2/2 for wav/Jamiroquai - (Dont) Give Hate a Chance.wav\n",
      "Finished channel 2/2 for wav/Jamiroquai - (Dont) Give Hate a Chance.wav\n",
      "Done\n"
     ]
    }
   ],
   "source": [
    "import os\n",
    "from chazam import Chazam\n",
    "\n",
    "PATH='wav'            #os.path.dirname(os.path.abspath(__file__)) + '/wav_to_sql'    ### para pythonanywhere\n",
    "\n",
    "ih_chazam=Chazam()\n",
    "\n",
    "print('Fingerprinting...')\n",
    "\n",
    "ih_chazam.fingerprint_directory(PATH, ['.wav'], 6)\n",
    "\n",
    "print('Done')"
   ]
  },
  {
   "cell_type": "markdown",
   "id": "589b03ad",
   "metadata": {},
   "source": [
    "# Test"
   ]
  },
  {
   "cell_type": "code",
   "execution_count": 12,
   "id": "ab12e561",
   "metadata": {},
   "outputs": [],
   "source": [
    "from chazam import Chazam\n",
    "\n",
    "from pydub import AudioSegment\n",
    "\n",
    "import os\n",
    "from datetime import datetime\n",
    "\n",
    "ih_chazam=Chazam()"
   ]
  },
  {
   "cell_type": "code",
   "execution_count": 13,
   "id": "48b82682",
   "metadata": {},
   "outputs": [
    {
     "data": {
      "text/plain": [
       "['Rosalía - Saoko.wav',\n",
       " 'Foals - Wake Me Up.wav',\n",
       " 'Robert Miles - Children.wav',\n",
       " 'Daft Punk ft. Pharrell Williams - Get Lucky.wav',\n",
       " 'Michael Jackson - Billie Jean.wav',\n",
       " 'The Doors - L.A. Woman.wav',\n",
       " 'Muchachito Bombo Inferno - Más que breve.wav',\n",
       " 'Radio Futura - Han caído los dos.wav',\n",
       " 'Masayoshi Takanaka - Speed of Love.wav',\n",
       " 'Måneskin - Beggin.wav',\n",
       " 'Too Many Zooz - Bad Guy.wav',\n",
       " 'Rosalía - Chicken Teriyaki.wav',\n",
       " 'Mr Oizo - Flat beat.wav',\n",
       " 'OutKast - Hey Ya!.wav',\n",
       " 'The Strokes - Machu Picchu.wav',\n",
       " 'Yello - Oh Yeah.wav',\n",
       " 'Jamiroquai - (Dont) Give Hate a Chance.wav',\n",
       " 'Chanel - SloMo.wav',\n",
       " 'Stardust - Music Sounds Better With You.wav',\n",
       " 'Santana ft. Mana - Corazon Espinado.wav',\n",
       " 'Breakbot - Be Mine Tonight.wav',\n",
       " 'Wax Tailor Ft. Charlie Winston - I Own You.wav',\n",
       " 'Charlie Winston - Lately.wav',\n",
       " 'Masayoshi Takanaka - Manifestation.wav',\n",
       " 'Radio Futura - Escuela de Calor.wav',\n",
       " 'Red Hot Chili Peppers - Go Robot.wav',\n",
       " 'Daft Punk - One More Time.wav',\n",
       " 'Michael Jackson - Workin Day and Night.wav',\n",
       " 'Joan As Police Woman - Holy City.wav',\n",
       " 'Parcels - Lightenup.wav',\n",
       " 'Jamiroquai - Runaway.wav',\n",
       " 'Woodkid - Run Boy Run.wav']"
      ]
     },
     "execution_count": 13,
     "metadata": {},
     "output_type": "execute_result"
    }
   ],
   "source": [
    "wav_list=os.listdir('wav')\n",
    "\n",
    "wav_list=[e for e in wav_list if e!='.DS_Store']\n",
    "\n",
    "wav_list"
   ]
  },
  {
   "cell_type": "code",
   "execution_count": 14,
   "id": "6c092622",
   "metadata": {},
   "outputs": [],
   "source": [
    "# audio segment\n",
    "startMin = 1\n",
    "startSec = 50\n",
    "\n",
    "endMin = 1\n",
    "endSec = 58"
   ]
  },
  {
   "cell_type": "code",
   "execution_count": 15,
   "id": "3937d1ea",
   "metadata": {},
   "outputs": [],
   "source": [
    "def audio_processing(tema):\n",
    "    # Processing audio function\n",
    "\n",
    "    # Time to miliseconds\n",
    "    startTime=startMin*60*1000 + startSec*1000\n",
    "    endTime=endMin*60*1000 + endSec*1000\n",
    "\n",
    "    song=AudioSegment.from_wav(f'wav/{tema}')\n",
    "    extract=song[startTime:endTime]\n",
    "\n",
    "    # fade in/out 3 secs\n",
    "    extract=extract.fade_in(3000).fade_out(3000)\n",
    "\n",
    "    # Saving cutted file\n",
    "    extract.export(f'recorte/{tema}', format='wav')\n"
   ]
  },
  {
   "cell_type": "code",
   "execution_count": 16,
   "id": "0305e8b0",
   "metadata": {},
   "outputs": [],
   "source": [
    "for tema in wav_list:\n",
    "    audio_processing(tema)"
   ]
  },
  {
   "cell_type": "code",
   "execution_count": 17,
   "id": "e2fe4f37",
   "metadata": {},
   "outputs": [
    {
     "data": {
      "text/plain": [
       "['Rosalía - Saoko.wav',\n",
       " 'Foals - Wake Me Up.wav',\n",
       " 'Robert Miles - Children.wav',\n",
       " 'Daft Punk ft. Pharrell Williams - Get Lucky.wav',\n",
       " 'Michael Jackson - Billie Jean.wav',\n",
       " 'The Doors - L.A. Woman.wav',\n",
       " 'Muchachito Bombo Inferno - Más que breve.wav',\n",
       " 'Radio Futura - Han caído los dos.wav',\n",
       " 'Masayoshi Takanaka - Speed of Love.wav',\n",
       " 'Måneskin - Beggin.wav',\n",
       " 'Too Many Zooz - Bad Guy.wav',\n",
       " 'Rosalía - Chicken Teriyaki.wav',\n",
       " 'Mr Oizo - Flat beat.wav',\n",
       " 'OutKast - Hey Ya!.wav',\n",
       " 'The Strokes - Machu Picchu.wav',\n",
       " 'Yello - Oh Yeah.wav',\n",
       " 'Jamiroquai - (Dont) Give Hate a Chance.wav',\n",
       " 'Chanel - SloMo.wav',\n",
       " 'Stardust - Music Sounds Better With You.wav',\n",
       " 'Santana ft. Mana - Corazon Espinado.wav',\n",
       " 'Breakbot - Be Mine Tonight.wav',\n",
       " 'Wax Tailor Ft. Charlie Winston - I Own You.wav',\n",
       " 'Charlie Winston - Lately.wav',\n",
       " 'Masayoshi Takanaka - Manifestation.wav',\n",
       " 'Radio Futura - Escuela de Calor.wav',\n",
       " 'Red Hot Chili Peppers - Go Robot.wav',\n",
       " 'Daft Punk - One More Time.wav',\n",
       " 'Michael Jackson - Workin Day and Night.wav',\n",
       " 'Joan As Police Woman - Holy City.wav',\n",
       " 'Parcels - Lightenup.wav',\n",
       " 'Jamiroquai - Runaway.wav',\n",
       " 'Woodkid - Run Boy Run.wav']"
      ]
     },
     "execution_count": 17,
     "metadata": {},
     "output_type": "execute_result"
    }
   ],
   "source": [
    "rec_list=os.listdir('recorte')\n",
    "\n",
    "rec_list=[e for e in rec_list if e!='.DS_Store']\n",
    "\n",
    "rec_list"
   ]
  },
  {
   "cell_type": "code",
   "execution_count": 18,
   "id": "522f6c02",
   "metadata": {},
   "outputs": [
    {
     "data": {
      "text/plain": [
       "32"
      ]
     },
     "execution_count": 18,
     "metadata": {},
     "output_type": "execute_result"
    }
   ],
   "source": [
    "len(rec_list)"
   ]
  },
  {
   "cell_type": "code",
   "execution_count": 19,
   "id": "abf12f31",
   "metadata": {
    "scrolled": false
   },
   "outputs": [
    {
     "name": "stdout",
     "output_type": "stream",
     "text": [
      "TIRANDO Rosalía - Saoko.wav 0.64\n",
      "\n",
      "TIRANDO Foals - Wake Me Up.wav 0.76\n",
      "\n",
      "TIRANDO Robert Miles - Children.wav 0.75\n",
      "\n",
      "TIRANDO Daft Punk ft. Pharrell Williams - Get Lucky.wav 0.79\n",
      "\n",
      "TIRANDO Michael Jackson - Billie Jean.wav 0.85\n",
      "\n",
      "TIRANDO The Doors - L.A. Woman.wav 0.83\n",
      "\n",
      "TIRANDO Muchachito Bombo Inferno - Más que breve.wav 0.42\n",
      "\n",
      "TIRANDO Radio Futura - Han caído los dos.wav 0.92\n",
      "\n",
      "TIRANDO Masayoshi Takanaka - Speed of Love.wav 0.74\n",
      "\n",
      "TIRANDO Måneskin - Beggin.wav 0.78\n",
      "\n",
      "TIRANDO Too Many Zooz - Bad Guy.wav 2.21\n",
      "\n",
      "TIRANDO Rosalía - Chicken Teriyaki.wav 0.79\n",
      "\n",
      "TIRANDO Mr Oizo - Flat beat.wav 0.63\n",
      "\n",
      "TIRANDO OutKast - Hey Ya!.wav 1.02\n",
      "\n",
      "TIRANDO The Strokes - Machu Picchu.wav 0.39\n",
      "\n",
      "TIRANDO Yello - Oh Yeah.wav 0.78\n",
      "\n",
      "TIRANDO Jamiroquai - (Dont) Give Hate a Chance.wav 0.79\n",
      "\n",
      "TIRANDO Chanel - SloMo.wav 0.77\n",
      "\n",
      "TIRANDO Stardust - Music Sounds Better With You.wav 1.54\n",
      "\n",
      "TIRANDO Santana ft. Mana - Corazon Espinado.wav 0.73\n",
      "\n",
      "TIRANDO Breakbot - Be Mine Tonight.wav 1.01\n",
      "\n",
      "TIRANDO Wax Tailor Ft. Charlie Winston - I Own You.wav 1.24\n",
      "\n",
      "TIRANDO Charlie Winston - Lately.wav 0.8\n",
      "\n",
      "TIRANDO Masayoshi Takanaka - Manifestation.wav 0.7\n",
      "\n",
      "TIRANDO Radio Futura - Escuela de Calor.wav 0.79\n",
      "\n",
      "TIRANDO Red Hot Chili Peppers - Go Robot.wav 1.12\n",
      "\n",
      "TIRANDO Daft Punk - One More Time.wav 0.85\n",
      "\n",
      "TIRANDO Michael Jackson - Workin Day and Night.wav 0.76\n",
      "\n",
      "TIRANDO Joan As Police Woman - Holy City.wav 0.31\n",
      "\n",
      "TIRANDO Parcels - Lightenup.wav 1.46\n",
      "\n",
      "TIRANDO Jamiroquai - Runaway.wav 1.12\n",
      "\n",
      "TIRANDO Woodkid - Run Boy Run.wav 0.72\n",
      "\n",
      "DONE!---0:00:00.838685\n"
     ]
    }
   ],
   "source": [
    "for tema in rec_list:\n",
    "    \n",
    "    \n",
    "    t=datetime.now()\n",
    "    \n",
    "    song=ih_chazam.recognize(f'recorte/{tema}')\n",
    "    \n",
    "    if song['results'][0]['input_confidence']<0.2:\n",
    "    \n",
    "        print(tema)\n",
    "        print(song['results'][0]['song_name'].decode('utf-8'))\n",
    "        print(song['results'][0]['input_confidence'])\n",
    "        print(song)\n",
    "        print()\n",
    "    \n",
    "    else:\n",
    "\n",
    "        print('TIRANDO', tema, song['results'][0]['input_confidence'])\n",
    "        print()\n",
    "        \n",
    "print('DONE!', datetime.now() - t, sep='---')"
   ]
  },
  {
   "cell_type": "code",
   "execution_count": 20,
   "id": "2d603479",
   "metadata": {},
   "outputs": [
    {
     "data": {
      "text/plain": [
       "{'total_time': 0.834871768951416,\n",
       " 'fingerprint_time': 0.2868630886077881,\n",
       " 'query_time': 0.5238280296325684,\n",
       " 'align_time': 0.02133488655090332,\n",
       " 'results': [{'song_id': 25,\n",
       "   'song_name': b'Woodkid - Run Boy Run',\n",
       "   'input_total_hashes': 21019,\n",
       "   'fingerprinted_hashes_in_db': 706534,\n",
       "   'hashes_matched_in_input': 15166,\n",
       "   'input_confidence': 0.72,\n",
       "   'fingerprinted_confidence': 0.02,\n",
       "   'offset': 4400,\n",
       "   'offset_seconds': 990.0,\n",
       "   'file_sha1': b'DEA8C742F25DE384666DE81FEFEC00A8E26D4A47'}]}"
      ]
     },
     "execution_count": 20,
     "metadata": {},
     "output_type": "execute_result"
    }
   ],
   "source": [
    "song"
   ]
  },
  {
   "cell_type": "code",
   "execution_count": null,
   "id": "a37080bf",
   "metadata": {},
   "outputs": [],
   "source": []
  },
  {
   "cell_type": "code",
   "execution_count": null,
   "id": "f8f482c2",
   "metadata": {},
   "outputs": [],
   "source": []
  }
 ],
 "metadata": {
  "kernelspec": {
   "display_name": "tensor",
   "language": "python",
   "name": "tensor"
  },
  "language_info": {
   "codemirror_mode": {
    "name": "ipython",
    "version": 3
   },
   "file_extension": ".py",
   "mimetype": "text/x-python",
   "name": "python",
   "nbconvert_exporter": "python",
   "pygments_lexer": "ipython3",
   "version": "3.8.13"
  }
 },
 "nbformat": 4,
 "nbformat_minor": 5
}
