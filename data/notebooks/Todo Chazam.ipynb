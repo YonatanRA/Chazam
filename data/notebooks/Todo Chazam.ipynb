{
 "cells": [
  {
   "cell_type": "markdown",
   "id": "813c6717",
   "metadata": {},
   "source": [
    "# Extraccion"
   ]
  },
  {
   "cell_type": "code",
   "execution_count": 1,
   "id": "5b60f224",
   "metadata": {},
   "outputs": [],
   "source": [
    "import warnings\n",
    "warnings.filterwarnings('ignore')\n",
    "\n",
    "import youtube_dl\n",
    "from pydub import AudioSegment\n",
    "\n",
    "import time\n",
    "import IPython.display as ipd\n",
    "\n",
    "import os"
   ]
  },
  {
   "cell_type": "markdown",
   "id": "ce607f32",
   "metadata": {},
   "source": [
    "**Covers**"
   ]
  },
  {
   "cell_type": "code",
   "execution_count": 2,
   "id": "c565985f",
   "metadata": {},
   "outputs": [],
   "source": [
    "COVERS={\n",
    "            'Rosalía - Saoko' : 'https://images.genius.com/717bbc9f2bb3c17d3a8161b898f682e1.1000x1000x1.png',\n",
    "            'Rosalía - Chicken Teriyaki': 'https://images.genius.com/717bbc9f2bb3c17d3a8161b898f682e1.1000x1000x1.png',\n",
    "            'Robert Miles - Children': 'https://m.media-amazon.com/images/I/91wmq5EE0zL._SL1414_.jpg',\n",
    "            'Chanel - SloMo': 'https://images.genius.com/0ee67ebc42b7c0d9924dcd8148dea503.1000x1000x1.png',\n",
    "            'Masayoshi Takanaka - Manifestation': 'https://i.discogs.com/tpI98ojXWZd4BS47eeHlzDTVkPTeUgfYRwY2vxy0t0I/rs:fit/g:sm/q:90/h:568/w:600/czM6Ly9kaXNjb2dz/LWRhdGFiYXNlLWlt/YWdlcy9SLTE5NzEz/NDQ4LTE2Mjc5MDgz/OTItMTk4NC5qcGVn.jpeg',\n",
    "            'Masayoshi Takanaka - Speed of Love': 'https://i.scdn.co/image/ab67616d0000b273047f1d8d58425016d92dffec',\n",
    "            'Radio Futura - Han caído los dos': 'https://i.ytimg.com/vi/dk0njJTT7Q8/hqdefault.jpg',\n",
    "            'Michael Jackson - Workin Day and Night': 'https://i1.sndcdn.com/artworks-000503561646-j6vazd-t500x500.jpg',\n",
    "            'Jamiroquai - Runaway': 'https://m.media-amazon.com/images/I/51T72MN2C7L._SX425_.jpg',\n",
    "            'Radio Futura - Escuela de Calor': 'https://undiaundisco.files.wordpress.com/2015/05/escuela-de-calor.jpg',\n",
    "            'The Doors - L.A. Woman': 'https://www.lahabitacion235.com/wp-content/uploads/2017/12/The-Doors-L.A.-Woman.jpg',\n",
    "            'Santana ft. Mana - Corazon Espinado': 'https://i.discogs.com/K5lqQBfdIAoo2ZXlUTuWCVnMWJriezS68imzB4EIl20/rs:fit/g:sm/q:90/h:507/w:600/czM6Ly9kaXNjb2dz/LWRhdGFiYXNlLWlt/YWdlcy9SLTcyOTk0/OTUtMTUyNjg2MTIy/MC01NTkwLmpwZWc.jpeg',\n",
    "            'Foals - Wake Me Up': 'https://www.rockzonemag.com/wp-content/uploads/2021/11/FOALS_WMU.gif',\n",
    "            'Yello - Oh Yeah': 'https://i1.sndcdn.com/artworks-000208466318-l6lpg5-t500x500.jpg',\n",
    "            'Woodkid - Run Boy Run': 'https://pics.filmaffinity.com/Woodkid_Run_Boy_Run_V_deo_musical-191105087-large.jpg',\n",
    "            'Parcels - Lightenup': 'https://i.ytimg.com/vi/BBDwPuq-aWM/maxresdefault.jpg',\n",
    "            'Stardust - Music Sounds Better With You': 'https://i.ytimg.com/vi/FQlAEiCb8m0/maxresdefault.jpg',\n",
    "            'Too Many Zooz - Bad Guy': 'https://i.ytimg.com/vi/iD4RyLt_FbE/maxresdefault.jpg',\n",
    "            'Charlie Winston - Lately': 'https://i.scdn.co/image/ab67616d0000b27398fa77ab7369e87401fd420a',\n",
    "            'Wax Tailor Ft. Charlie Winston - I Own You': 'https://i.ytimg.com/vi/PYsEo4TTTtM/maxresdefault.jpg',\n",
    "            'Måneskin - Beggin': 'https://i1.sndcdn.com/artworks-FwMjIfwKk3NLXoyH-LllOIw-t500x500.jpg',\n",
    "            'Daft Punk ft. Pharrell Williams - Get Lucky': 'https://m.media-amazon.com/images/I/61DVe0f7EWL._SS500_.jpg',\n",
    "            'Red Hot Chili Peppers - Go Robot': 'https://m.media-amazon.com/images/I/51Eby0+By+L._SX450_.jpg',\n",
    "            'Michael Jackson - Billie Jean': 'https://i.discogs.com/Bt5Iot_gGPssTvrUFn2f0RZj1M04GKHhadwYMrCA-aw/rs:fit/g:sm/q:90/h:597/w:600/czM6Ly9kaXNjb2dz/LWRhdGFiYXNlLWlt/YWdlcy9SLTY1NjE2/OC0xNTg2MzQxMDQ4/LTg0NTkuanBlZw.jpeg',\n",
    "            'Daft Punk - One More Time': 'https://www.yaconic.com/wp-content/uploads/2019/10/daft-punk--1024x576.jpg',\n",
    "            'OutKast - Hey Ya!': 'https://i.discogs.com/6wFhFFheU2Oqg7R8GLCMeYA8BKXOQZZMvKC1Mk-MBqw/rs:fit/g:sm/q:90/h:521/w:600/czM6Ly9kaXNjb2dz/LWRhdGFiYXNlLWlt/YWdlcy9SLTQxNTAy/Ny0xNTM0Njk3ODg5/LTY3NzYuanBlZw.jpeg',\n",
    "\n",
    "         }"
   ]
  },
  {
   "cell_type": "code",
   "execution_count": 3,
   "id": "2f728e7f",
   "metadata": {},
   "outputs": [
    {
     "data": {
      "text/plain": [
       "26"
      ]
     },
     "execution_count": 3,
     "metadata": {},
     "output_type": "execute_result"
    }
   ],
   "source": [
    "len(COVERS.keys())"
   ]
  },
  {
   "cell_type": "markdown",
   "id": "394b7fad",
   "metadata": {},
   "source": [
    "**Links Youtube**"
   ]
  },
  {
   "cell_type": "code",
   "execution_count": 4,
   "id": "9f29da07",
   "metadata": {},
   "outputs": [],
   "source": [
    "##original\n",
    "\n",
    "extracted_links={\n",
    "                 'Rosalía - Saoko': 'https://www.youtube.com/watch?v=6o7bCAZSxsg&ab_channel=RosaliaVEVO',\n",
    "                 'Rosalía - Chicken Teriyaki': 'https://www.youtube.com/watch?v=OG4gq9fCoRE&ab_channel=RosaliaVEVO',\n",
    "                 'Robert Miles - Children': 'https://www.youtube.com/watch?v=CC5ca6Hsb2Q&ab_channel=RobertMiles',\n",
    "                 'Chanel - SloMo': 'https://www.youtube.com/watch?v=Dwyefl6itpI&ab_channel=ChanelOfficial',\n",
    "                 'Masayoshi Takanaka - Manifestation': 'https://www.youtube.com/watch?v=6qSYyb9G3DU&ab_channel=MetaRock',\n",
    "                 'Masayoshi Takanaka - Speed of Love': 'https://www.youtube.com/watch?v=AcBm6qynqrs&ab_channel=JeanAraujo',\n",
    "                 'Radio Futura - Han caído los dos': 'https://www.youtube.com/watch?v=dk0njJTT7Q8&ab_channel=miguelrubio',\n",
    "                 'Michael Jackson - Workin Day and Night': 'https://www.youtube.com/watch?v=MWnyCxva6bA&ab_channel=michaeljacksonVEVO',\n",
    "                 'Jamiroquai - Runaway': 'https://www.youtube.com/watch?v=uldpc4rWNXQ&ab_channel=JamiroquaiVEVO',\n",
    "                 'Radio Futura - Escuela de Calor': 'https://www.youtube.com/watch?v=LyCQvyrZzW0&ab_channel=RadioFuturaVEVO',\n",
    "                 'The Doors - L.A. Woman': 'https://www.youtube.com/watch?v=vHXjcdNIN-Q&ab_channel=TheDoors-Topic',\n",
    "                 'Santana ft. Mana - Corazon Espinado': 'https://www.youtube.com/watch?v=p_oLQAvkUFg&ab_channel=Santana-Topic',\n",
    "                 'Foals - Wake Me Up': 'https://www.youtube.com/watch?v=-jvUFIVdR-Y&ab_channel=Foals',\n",
    "                 'Yello - Oh Yeah': 'https://www.youtube.com/watch?v=6jJkdRaa04g&ab_channel=YelloVEVO',\n",
    "                 'Woodkid - Run Boy Run': 'https://www.youtube.com/watch?v=lmc21V-zBq0&ab_channel=WOODKID',\n",
    "                 'Parcels - Lightenup': 'https://www.youtube.com/watch?v=bJl-avjRgzU&ab_channel=COLORS',\n",
    "                 'Stardust - Music Sounds Better With You': 'https://www.youtube.com/watch?v=FQlAEiCb8m0&ab_channel=Stardust',\n",
    "                 'Too Many Zooz - Bad Guy': 'https://www.youtube.com/watch?v=iD4RyLt_FbE&ab_channel=TooManyZooz',\n",
    "                 'Charlie Winston - Lately': 'https://www.youtube.com/watch?v=uY-n30EXPyk&ab_channel=CharlieWinstonVEVO',\n",
    "                 'Wax Tailor Ft. Charlie Winston - I Own You': 'https://www.youtube.com/watch?v=PYsEo4TTTtM&ab_channel=WAXTAILOR',\n",
    "                 'Måneskin - Beggin': 'https://www.youtube.com/watch?v=8fYR_ayjES0&ab_channel=%C3%9ANICOMUSIC',\n",
    "                 'Daft Punk ft. Pharrell Williams - Get Lucky': 'https://www.youtube.com/watch?v=5NV6Rdv1a3I&ab_channel=DaftPunkVEVO',\n",
    "                 'Red Hot Chili Peppers - Go Robot': 'https://www.youtube.com/watch?v=HI-8CVixZ5o&ab_channel=RedHotChiliPeppers',\n",
    "                 'Michael Jackson - Billie Jean': 'https://www.youtube.com/watch?v=Zi_XLOBDo_Y&ab_channel=michaeljacksonVEVO',\n",
    "                 'Daft Punk - One More Time': 'https://www.youtube.com/watch?v=FGBhQbmPwH8&ab_channel=DaftPunk',\n",
    "                 'OutKast - Hey Ya!': 'https://www.youtube.com/watch?v=YPIPRbWuKg4&ab_channel=%E2%9C%A7riceheims%E2%9C%A6',\n",
    "\n",
    "               }"
   ]
  },
  {
   "cell_type": "code",
   "execution_count": 5,
   "id": "94da408c",
   "metadata": {},
   "outputs": [
    {
     "data": {
      "text/plain": [
       "26"
      ]
     },
     "execution_count": 5,
     "metadata": {},
     "output_type": "execute_result"
    }
   ],
   "source": [
    "len(extracted_links.keys())"
   ]
  },
  {
   "cell_type": "code",
   "execution_count": 6,
   "id": "76627731",
   "metadata": {},
   "outputs": [
    {
     "data": {
      "text/plain": [
       "True"
      ]
     },
     "execution_count": 6,
     "metadata": {},
     "output_type": "execute_result"
    }
   ],
   "source": [
    "extracted_links.keys()==COVERS.keys()"
   ]
  },
  {
   "cell_type": "markdown",
   "id": "64aa22ee",
   "metadata": {},
   "source": [
    "**Extraccion**"
   ]
  },
  {
   "cell_type": "code",
   "execution_count": 7,
   "id": "1d7c5124",
   "metadata": {},
   "outputs": [],
   "source": [
    "def song_download(nombre, link):\n",
    "    \n",
    "    ydl_options={'format': 'bestaudio/best',      # audio format\n",
    "                          'postprocessors': [{\n",
    "                            'key': 'FFmpegExtractAudio',  # codecs and quality\n",
    "                            'preferredcodec': 'wav',\n",
    "                            'preferredquality': '192',\n",
    "                             }], \n",
    "                          'outtmpl': f'wav/{nombre}.m4a'      # save path\n",
    "                         }\n",
    "    \n",
    "    \n",
    "    # download mp3 file from youtube\n",
    "    with youtube_dl.YoutubeDL(ydl_options) as ydl:\n",
    "        ydl.download([link])"
   ]
  },
  {
   "cell_type": "code",
   "execution_count": 8,
   "id": "313b69a7",
   "metadata": {},
   "outputs": [],
   "source": [
    "links={\n",
    "    #'': '',\n",
    "    \n",
    "}"
   ]
  },
  {
   "cell_type": "code",
   "execution_count": 9,
   "id": "f5a35f29",
   "metadata": {},
   "outputs": [],
   "source": [
    "for nombre, link in links.items():\n",
    "    print(nombre, link)\n",
    "    #song_download(nombre, link)"
   ]
  },
  {
   "cell_type": "markdown",
   "id": "4e7c50f3",
   "metadata": {},
   "source": [
    "# Fingerprinting\n",
    "\n",
    "\n",
    "```python\n",
    "\n",
    "CONFIG={'database': {'host': '127.0.0.1',\n",
    "                     'user': 'root',\n",
    "                     'password': 'password', \n",
    "                     'database': 'fingerprint'}}\n",
    "\n",
    "```"
   ]
  },
  {
   "cell_type": "code",
   "execution_count": 10,
   "id": "36b08a91",
   "metadata": {},
   "outputs": [
    {
     "data": {
      "text/plain": [
       "26"
      ]
     },
     "execution_count": 10,
     "metadata": {},
     "output_type": "execute_result"
    }
   ],
   "source": [
    "wav_list=os.listdir('wav')\n",
    "\n",
    "wav_list=[e for e in wav_list if e!='.DS_Store']\n",
    "\n",
    "len(wav_list)"
   ]
  },
  {
   "cell_type": "code",
   "execution_count": 11,
   "id": "f7df2f1d",
   "metadata": {},
   "outputs": [
    {
     "name": "stdout",
     "output_type": "stream",
     "text": [
      "Fingerprinting...\n",
      "Fingerprinting channel 1/2 for wav/Michael Jackson - Billie Jean.wav\n",
      "Finished channel 1/2 for wav/Michael Jackson - Billie Jean.wav\n",
      "Fingerprinting channel 2/2 for wav/Michael Jackson - Billie Jean.wav\n",
      "Finished channel 2/2 for wav/Michael Jackson - Billie Jean.wav\n",
      "Fingerprinting channel 1/2 for wav/OutKast - Hey Ya!.wav\n",
      "Finished channel 1/2 for wav/OutKast - Hey Ya!.wav\n",
      "Fingerprinting channel 2/2 for wav/OutKast - Hey Ya!.wav\n",
      "Finished channel 2/2 for wav/OutKast - Hey Ya!.wav\n",
      "Fingerprinting channel 1/2 for wav/Stardust - Music Sounds Better With You.wav\n",
      "Finished channel 1/2 for wav/Stardust - Music Sounds Better With You.wav\n",
      "Fingerprinting channel 2/2 for wav/Stardust - Music Sounds Better With You.wav\n",
      "Finished channel 2/2 for wav/Stardust - Music Sounds Better With You.wav\n",
      "Fingerprinting channel 1/2 for wav/Red Hot Chili Peppers - Go Robot.wav\n",
      "Finished channel 1/2 for wav/Red Hot Chili Peppers - Go Robot.wav\n",
      "Fingerprinting channel 2/2 for wav/Red Hot Chili Peppers - Go Robot.wav\n",
      "Finished channel 2/2 for wav/Red Hot Chili Peppers - Go Robot.wav\n",
      "Fingerprinting channel 1/2 for wav/The Doors - L.A. Woman.wav\n",
      "Finished channel 1/2 for wav/The Doors - L.A. Woman.wav\n",
      "Fingerprinting channel 2/2 for wav/The Doors - L.A. Woman.wav\n",
      "Finished channel 2/2 for wav/The Doors - L.A. Woman.wav\n",
      "Fingerprinting channel 1/2 for wav/Radio Futura - Escuela de Calor.wav\n",
      "Finished channel 1/2 for wav/Radio Futura - Escuela de Calor.wav\n",
      "Fingerprinting channel 2/2 for wav/Radio Futura - Escuela de Calor.wav\n",
      "Finished channel 2/2 for wav/Radio Futura - Escuela de Calor.wav\n",
      "Fingerprinting channel 1/2 for wav/Jamiroquai - Runaway.wav\n",
      "Finished channel 1/2 for wav/Jamiroquai - Runaway.wav\n",
      "Fingerprinting channel 2/2 for wav/Jamiroquai - Runaway.wav\n",
      "Finished channel 2/2 for wav/Jamiroquai - Runaway.wav\n",
      "Fingerprinting channel 1/2 for wav/Woodkid - Run Boy Run.wav\n",
      "Finished channel 1/2 for wav/Woodkid - Run Boy Run.wav\n",
      "Fingerprinting channel 2/2 for wav/Woodkid - Run Boy Run.wav\n",
      "Finished channel 2/2 for wav/Woodkid - Run Boy Run.wav\n",
      "Fingerprinting channel 1/2 for wav/Rosalía - Saoko.wav\n",
      "Finished channel 1/2 for wav/Rosalía - Saoko.wav\n",
      "Fingerprinting channel 2/2 for wav/Rosalía - Saoko.wav\n",
      "Finished channel 2/2 for wav/Rosalía - Saoko.wav\n",
      "Fingerprinting channel 1/2 for wav/Radio Futura - Han caído los dos.wav\n",
      "Finished channel 1/2 for wav/Radio Futura - Han caído los dos.wav\n",
      "Fingerprinting channel 2/2 for wav/Radio Futura - Han caído los dos.wav\n",
      "Finished channel 2/2 for wav/Radio Futura - Han caído los dos.wav\n",
      "Fingerprinting channel 1/2 for wav/Masayoshi Takanaka - Speed of Love.wav\n",
      "Finished channel 1/2 for wav/Masayoshi Takanaka - Speed of Love.wav\n",
      "Fingerprinting channel 2/2 for wav/Masayoshi Takanaka - Speed of Love.wav\n",
      "Finished channel 2/2 for wav/Masayoshi Takanaka - Speed of Love.wav\n",
      "Fingerprinting channel 1/2 for wav/Rosalía - Chicken Teriyaki.wav\n",
      "Finished channel 1/2 for wav/Rosalía - Chicken Teriyaki.wav\n",
      "Fingerprinting channel 2/2 for wav/Rosalía - Chicken Teriyaki.wav\n",
      "Finished channel 2/2 for wav/Rosalía - Chicken Teriyaki.wav\n",
      "Fingerprinting channel 1/2 for wav/Yello - Oh Yeah.wav\n",
      "Finished channel 1/2 for wav/Yello - Oh Yeah.wav\n",
      "Fingerprinting channel 2/2 for wav/Yello - Oh Yeah.wav\n",
      "Finished channel 2/2 for wav/Yello - Oh Yeah.wav\n",
      "Fingerprinting channel 1/2 for wav/Santana ft. Mana - Corazon Espinado.wav\n",
      "Finished channel 1/2 for wav/Santana ft. Mana - Corazon Espinado.wav\n",
      "Fingerprinting channel 2/2 for wav/Santana ft. Mana - Corazon Espinado.wav\n",
      "Finished channel 2/2 for wav/Santana ft. Mana - Corazon Espinado.wav\n",
      "Fingerprinting channel 1/2 for wav/Parcels - Lightenup.wav\n",
      "Finished channel 1/2 for wav/Parcels - Lightenup.wav\n",
      "Fingerprinting channel 2/2 for wav/Parcels - Lightenup.wav\n",
      "Finished channel 2/2 for wav/Parcels - Lightenup.wav\n",
      "Fingerprinting channel 1/2 for wav/Foals - Wake Me Up.wav\n",
      "Finished channel 1/2 for wav/Foals - Wake Me Up.wav\n",
      "Fingerprinting channel 2/2 for wav/Foals - Wake Me Up.wav\n",
      "Finished channel 2/2 for wav/Foals - Wake Me Up.wav\n",
      "Fingerprinting channel 1/2 for wav/Måneskin - Beggin.wav\n",
      "Finished channel 1/2 for wav/Måneskin - Beggin.wav\n",
      "Fingerprinting channel 2/2 for wav/Måneskin - Beggin.wav\n",
      "Finished channel 2/2 for wav/Måneskin - Beggin.wav\n",
      "Fingerprinting channel 1/2 for wav/Masayoshi Takanaka - Manifestation.wav\n",
      "Finished channel 1/2 for wav/Masayoshi Takanaka - Manifestation.wav\n",
      "Fingerprinting channel 2/2 for wav/Masayoshi Takanaka - Manifestation.wav\n",
      "Finished channel 2/2 for wav/Masayoshi Takanaka - Manifestation.wav\n",
      "Fingerprinting channel 1/2 for wav/Daft Punk ft. Pharrell Williams - Get Lucky.wav\n",
      "Finished channel 1/2 for wav/Daft Punk ft. Pharrell Williams - Get Lucky.wav\n",
      "Fingerprinting channel 2/2 for wav/Daft Punk ft. Pharrell Williams - Get Lucky.wav\n",
      "Finished channel 2/2 for wav/Daft Punk ft. Pharrell Williams - Get Lucky.wav\n",
      "Fingerprinting channel 1/2 for wav/Too Many Zooz - Bad Guy.wav\n",
      "Finished channel 1/2 for wav/Too Many Zooz - Bad Guy.wav\n",
      "Fingerprinting channel 2/2 for wav/Too Many Zooz - Bad Guy.wav\n",
      "Finished channel 2/2 for wav/Too Many Zooz - Bad Guy.wav\n",
      "Fingerprinting channel 1/2 for wav/Chanel - SloMo.wav\n",
      "Finished channel 1/2 for wav/Chanel - SloMo.wav\n",
      "Fingerprinting channel 2/2 for wav/Chanel - SloMo.wav\n",
      "Finished channel 2/2 for wav/Chanel - SloMo.wav\n",
      "Fingerprinting channel 1/2 for wav/Wax Tailor Ft. Charlie Winston - I Own You.wav\n",
      "Finished channel 1/2 for wav/Wax Tailor Ft. Charlie Winston - I Own You.wav\n",
      "Fingerprinting channel 2/2 for wav/Wax Tailor Ft. Charlie Winston - I Own You.wav\n",
      "Finished channel 2/2 for wav/Wax Tailor Ft. Charlie Winston - I Own You.wav\n",
      "Fingerprinting channel 1/2 for wav/Daft Punk - One More Time.wav\n",
      "Finished channel 1/2 for wav/Daft Punk - One More Time.wav\n",
      "Fingerprinting channel 2/2 for wav/Daft Punk - One More Time.wav\n",
      "Finished channel 2/2 for wav/Daft Punk - One More Time.wav\n",
      "Fingerprinting channel 1/2 for wav/Robert Miles - Children.wav\n",
      "Finished channel 1/2 for wav/Robert Miles - Children.wav\n",
      "Fingerprinting channel 2/2 for wav/Robert Miles - Children.wav\n",
      "Finished channel 2/2 for wav/Robert Miles - Children.wav\n",
      "Fingerprinting channel 1/2 for wav/Charlie Winston - Lately.wav\n",
      "Finished channel 1/2 for wav/Charlie Winston - Lately.wav\n",
      "Fingerprinting channel 2/2 for wav/Charlie Winston - Lately.wav\n",
      "Finished channel 2/2 for wav/Charlie Winston - Lately.wav\n",
      "Fingerprinting channel 1/2 for wav/Michael Jackson - Workin Day and Night.wav\n",
      "Finished channel 1/2 for wav/Michael Jackson - Workin Day and Night.wav\n",
      "Fingerprinting channel 2/2 for wav/Michael Jackson - Workin Day and Night.wav\n",
      "Finished channel 2/2 for wav/Michael Jackson - Workin Day and Night.wav\n",
      "Done\n"
     ]
    }
   ],
   "source": [
    "import os\n",
    "from chazam import Chazam\n",
    "\n",
    "PATH='wav'            #os.path.dirname(os.path.abspath(__file__)) + '/wav_to_sql'\n",
    "\n",
    "ih_chazam=Chazam()\n",
    "\n",
    "print('Fingerprinting...')\n",
    "\n",
    "ih_chazam.fingerprint_directory(PATH, ['.wav'], 6)\n",
    "\n",
    "print('Done')"
   ]
  },
  {
   "cell_type": "markdown",
   "id": "589b03ad",
   "metadata": {},
   "source": [
    "# Test"
   ]
  },
  {
   "cell_type": "code",
   "execution_count": 12,
   "id": "ab12e561",
   "metadata": {},
   "outputs": [],
   "source": [
    "from chazam import Chazam\n",
    "\n",
    "from pydub import AudioSegment\n",
    "\n",
    "import os\n",
    "from datetime import datetime\n",
    "\n",
    "ih_chazam=Chazam()"
   ]
  },
  {
   "cell_type": "code",
   "execution_count": 13,
   "id": "48b82682",
   "metadata": {},
   "outputs": [
    {
     "data": {
      "text/plain": [
       "['Rosalía - Saoko.wav',\n",
       " 'Foals - Wake Me Up.wav',\n",
       " 'Robert Miles - Children.wav',\n",
       " 'Daft Punk ft. Pharrell Williams - Get Lucky.wav',\n",
       " 'Michael Jackson - Billie Jean.wav',\n",
       " 'The Doors - L.A. Woman.wav',\n",
       " 'Radio Futura - Han caído los dos.wav',\n",
       " 'Masayoshi Takanaka - Speed of Love.wav',\n",
       " 'Måneskin - Beggin.wav',\n",
       " 'Too Many Zooz - Bad Guy.wav',\n",
       " 'Rosalía - Chicken Teriyaki.wav',\n",
       " 'OutKast - Hey Ya!.wav',\n",
       " 'Yello - Oh Yeah.wav',\n",
       " 'Chanel - SloMo.wav',\n",
       " 'Stardust - Music Sounds Better With You.wav',\n",
       " 'Santana ft. Mana - Corazon Espinado.wav',\n",
       " 'Wax Tailor Ft. Charlie Winston - I Own You.wav',\n",
       " 'Charlie Winston - Lately.wav',\n",
       " 'Masayoshi Takanaka - Manifestation.wav',\n",
       " 'Radio Futura - Escuela de Calor.wav',\n",
       " 'Red Hot Chili Peppers - Go Robot.wav',\n",
       " 'Daft Punk - One More Time.wav',\n",
       " 'Michael Jackson - Workin Day and Night.wav',\n",
       " 'Parcels - Lightenup.wav',\n",
       " 'Jamiroquai - Runaway.wav',\n",
       " 'Woodkid - Run Boy Run.wav']"
      ]
     },
     "execution_count": 13,
     "metadata": {},
     "output_type": "execute_result"
    }
   ],
   "source": [
    "wav_list=os.listdir('wav')\n",
    "\n",
    "wav_list=[e for e in wav_list if e!='.DS_Store']\n",
    "\n",
    "wav_list"
   ]
  },
  {
   "cell_type": "code",
   "execution_count": 14,
   "id": "6c092622",
   "metadata": {},
   "outputs": [],
   "source": [
    "# audio segment\n",
    "startMin = 1\n",
    "startSec = 50\n",
    "\n",
    "endMin = 1\n",
    "endSec = 58"
   ]
  },
  {
   "cell_type": "code",
   "execution_count": 15,
   "id": "3937d1ea",
   "metadata": {},
   "outputs": [],
   "source": [
    "def audio_processing(tema):\n",
    "    # Processin audio function\n",
    "\n",
    "    # Time to miliseconds\n",
    "    startTime=startMin*60*1000 + startSec*1000\n",
    "    endTime=endMin*60*1000 + endSec*1000\n",
    "\n",
    "    song=AudioSegment.from_wav(f'wav/{tema}')\n",
    "    extract=song[startTime:endTime]\n",
    "\n",
    "    # fade in/out 3 secs\n",
    "    extract=extract.fade_in(3000).fade_out(3000)\n",
    "\n",
    "    # Saving cutted file\n",
    "    extract.export(f'recorte/{tema}', format='wav')\n"
   ]
  },
  {
   "cell_type": "code",
   "execution_count": 16,
   "id": "0305e8b0",
   "metadata": {},
   "outputs": [],
   "source": [
    "for tema in wav_list:\n",
    "    audio_processing(tema)"
   ]
  },
  {
   "cell_type": "code",
   "execution_count": 17,
   "id": "e2fe4f37",
   "metadata": {},
   "outputs": [
    {
     "data": {
      "text/plain": [
       "['Rosalía - Saoko.wav',\n",
       " 'Foals - Wake Me Up.wav',\n",
       " 'Robert Miles - Children.wav',\n",
       " 'Daft Punk ft. Pharrell Williams - Get Lucky.wav',\n",
       " 'Michael Jackson - Billie Jean.wav',\n",
       " 'The Doors - L.A. Woman.wav',\n",
       " 'Radio Futura - Han caído los dos.wav',\n",
       " 'Masayoshi Takanaka - Speed of Love.wav',\n",
       " 'Måneskin - Beggin.wav',\n",
       " 'Too Many Zooz - Bad Guy.wav',\n",
       " 'Rosalía - Chicken Teriyaki.wav',\n",
       " 'OutKast - Hey Ya!.wav',\n",
       " 'Yello - Oh Yeah.wav',\n",
       " 'Chanel - SloMo.wav',\n",
       " 'Stardust - Music Sounds Better With You.wav',\n",
       " 'Santana ft. Mana - Corazon Espinado.wav',\n",
       " 'Wax Tailor Ft. Charlie Winston - I Own You.wav',\n",
       " 'Charlie Winston - Lately.wav',\n",
       " 'Masayoshi Takanaka - Manifestation.wav',\n",
       " 'Radio Futura - Escuela de Calor.wav',\n",
       " 'Red Hot Chili Peppers - Go Robot.wav',\n",
       " 'Daft Punk - One More Time.wav',\n",
       " 'Michael Jackson - Workin Day and Night.wav',\n",
       " 'Parcels - Lightenup.wav',\n",
       " 'Jamiroquai - Runaway.wav',\n",
       " 'Woodkid - Run Boy Run.wav']"
      ]
     },
     "execution_count": 17,
     "metadata": {},
     "output_type": "execute_result"
    }
   ],
   "source": [
    "rec_list=os.listdir('recorte')\n",
    "\n",
    "rec_list=[e for e in rec_list if e!='.DS_Store']\n",
    "\n",
    "rec_list"
   ]
  },
  {
   "cell_type": "code",
   "execution_count": 18,
   "id": "522f6c02",
   "metadata": {},
   "outputs": [
    {
     "data": {
      "text/plain": [
       "26"
      ]
     },
     "execution_count": 18,
     "metadata": {},
     "output_type": "execute_result"
    }
   ],
   "source": [
    "len(rec_list)"
   ]
  },
  {
   "cell_type": "code",
   "execution_count": 19,
   "id": "abf12f31",
   "metadata": {
    "scrolled": false
   },
   "outputs": [
    {
     "name": "stdout",
     "output_type": "stream",
     "text": [
      "TIRANDO Rosalía - Saoko.wav 0.64\n",
      "\n",
      "TIRANDO Foals - Wake Me Up.wav 0.76\n",
      "\n",
      "TIRANDO Robert Miles - Children.wav 0.75\n",
      "\n",
      "TIRANDO Daft Punk ft. Pharrell Williams - Get Lucky.wav 0.79\n",
      "\n",
      "TIRANDO Michael Jackson - Billie Jean.wav 0.85\n",
      "\n",
      "TIRANDO The Doors - L.A. Woman.wav 0.83\n",
      "\n",
      "TIRANDO Radio Futura - Han caído los dos.wav 0.92\n",
      "\n",
      "TIRANDO Masayoshi Takanaka - Speed of Love.wav 0.74\n",
      "\n",
      "TIRANDO Måneskin - Beggin.wav 0.78\n",
      "\n",
      "TIRANDO Too Many Zooz - Bad Guy.wav 2.21\n",
      "\n",
      "TIRANDO Rosalía - Chicken Teriyaki.wav 0.79\n",
      "\n",
      "TIRANDO OutKast - Hey Ya!.wav 1.02\n",
      "\n",
      "TIRANDO Yello - Oh Yeah.wav 0.78\n",
      "\n",
      "TIRANDO Chanel - SloMo.wav 0.77\n",
      "\n",
      "TIRANDO Stardust - Music Sounds Better With You.wav 1.54\n",
      "\n",
      "TIRANDO Santana ft. Mana - Corazon Espinado.wav 0.73\n",
      "\n",
      "TIRANDO Wax Tailor Ft. Charlie Winston - I Own You.wav 1.24\n",
      "\n",
      "TIRANDO Charlie Winston - Lately.wav 0.8\n",
      "\n",
      "Masayoshi Takanaka - Manifestation.wav\n",
      "The Doors - L.A. Woman\n",
      "0.02\n",
      "{'total_time': 0.7558889389038086, 'fingerprint_time': 0.287243127822876, 'query_time': 0.44005799293518066, 'align_time': 0.02560281753540039, 'results': [{'song_id': 14, 'song_name': b'The Doors - L.A. Woman', 'input_total_hashes': 22552, 'fingerprinted_hashes_in_db': 2082858, 'hashes_matched_in_input': 410, 'input_confidence': 0.02, 'fingerprinted_confidence': 0.0, 'offset': 2496, 'offset_seconds': 561.6, 'file_sha1': b'E3A3DAB21A2F9BBCA3721E47601BAF5939F92D6C'}]}\n",
      "\n",
      "TIRANDO Radio Futura - Escuela de Calor.wav 0.79\n",
      "\n",
      "TIRANDO Red Hot Chili Peppers - Go Robot.wav 1.12\n",
      "\n",
      "TIRANDO Daft Punk - One More Time.wav 0.85\n",
      "\n",
      "TIRANDO Michael Jackson - Workin Day and Night.wav 0.76\n",
      "\n",
      "TIRANDO Parcels - Lightenup.wav 1.46\n",
      "\n",
      "TIRANDO Jamiroquai - Runaway.wav 1.12\n",
      "\n",
      "TIRANDO Woodkid - Run Boy Run.wav 0.72\n",
      "\n",
      "DONE!---0:00:00.823239\n"
     ]
    }
   ],
   "source": [
    "for tema in rec_list:\n",
    "    \n",
    "    \n",
    "    t=datetime.now()\n",
    "    \n",
    "    song=ih_chazam.recognize(f'recorte/{tema}')\n",
    "    \n",
    "    if song['results'][0]['input_confidence']<0.2:\n",
    "    \n",
    "        print(tema)\n",
    "        print(song['results'][0]['song_name'].decode('utf-8'))\n",
    "        print(song['results'][0]['input_confidence'])\n",
    "        print(song)\n",
    "        print()\n",
    "    \n",
    "    else:\n",
    "\n",
    "        print('TIRANDO', tema, song['results'][0]['input_confidence'])\n",
    "        print()\n",
    "        \n",
    "print('DONE!', datetime.now() - t, sep='---')"
   ]
  },
  {
   "cell_type": "code",
   "execution_count": 20,
   "id": "5bb7b939",
   "metadata": {},
   "outputs": [
    {
     "data": {
      "text/plain": [
       "{'total_time': 0.8215739727020264,\n",
       " 'fingerprint_time': 0.2828481197357178,\n",
       " 'query_time': 0.5138339996337891,\n",
       " 'align_time': 0.022124052047729492,\n",
       " 'results': [{'song_id': 26,\n",
       "   'song_name': b'Woodkid - Run Boy Run',\n",
       "   'input_total_hashes': 21019,\n",
       "   'fingerprinted_hashes_in_db': 706534,\n",
       "   'hashes_matched_in_input': 15166,\n",
       "   'input_confidence': 0.72,\n",
       "   'fingerprinted_confidence': 0.02,\n",
       "   'offset': 4400,\n",
       "   'offset_seconds': 990.0,\n",
       "   'file_sha1': b'DEA8C742F25DE384666DE81FEFEC00A8E26D4A47'}]}"
      ]
     },
     "execution_count": 20,
     "metadata": {},
     "output_type": "execute_result"
    }
   ],
   "source": [
    "song"
   ]
  },
  {
   "cell_type": "code",
   "execution_count": null,
   "id": "744576df",
   "metadata": {},
   "outputs": [],
   "source": []
  }
 ],
 "metadata": {
  "kernelspec": {
   "display_name": "tensor",
   "language": "python",
   "name": "tensor"
  },
  "language_info": {
   "codemirror_mode": {
    "name": "ipython",
    "version": 3
   },
   "file_extension": ".py",
   "mimetype": "text/x-python",
   "name": "python",
   "nbconvert_exporter": "python",
   "pygments_lexer": "ipython3",
   "version": "3.8.13"
  }
 },
 "nbformat": 4,
 "nbformat_minor": 5
}
